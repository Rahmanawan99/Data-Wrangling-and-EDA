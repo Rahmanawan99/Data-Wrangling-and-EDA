{
  "cells": [
    {
      "cell_type": "markdown",
      "source": [
        "# Libraries and Dataset"
      ],
      "metadata": {
        "id": "dkRbJHS8PXXh"
      }
    },
    {
      "cell_type": "code",
      "execution_count": 1,
      "metadata": {
        "id": "kr5FxmsrxHVR"
      },
      "outputs": [],
      "source": [
        "#importing the basic libraries\n",
        "import pandas as pd\n",
        "import numpy as np\n",
        "import matplotlib.pyplot as plot\n",
        "import missingno as mano\n",
        "%matplotlib inline\n",
        "%matplotlib inline"
      ]
    },
    {
      "cell_type": "code",
      "execution_count": 2,
      "metadata": {
        "id": "tgSCUAXfxqHR"
      },
      "outputs": [],
      "source": [
        "#read the CSV file \n",
        "missingdf = pd.read_csv(\"car_features_dirty.csv\")"
      ]
    },
    {
      "cell_type": "markdown",
      "source": [
        "# Lets understand the Data"
      ],
      "metadata": {
        "id": "C16Caw7RPeGI"
      }
    },
    {
      "cell_type": "code",
      "execution_count": 3,
      "metadata": {
        "colab": {
          "base_uri": "https://localhost:8080/"
        },
        "id": "PR-qpMLJxzfr",
        "outputId": "4febd77b-5c07-4b23-cd84-c07ff7730a77"
      },
      "outputs": [
        {
          "output_type": "execute_result",
          "data": {
            "text/plain": [
              "Index(['Make', 'Model', 'Year', 'Engine Fuel Type', 'Engine HP',\n",
              "       'Engine Cylinders', 'Transmission Type', 'Driven_Wheels',\n",
              "       'Number of Doors', 'Market Category', 'Vehicle Size', 'Vehicle Style',\n",
              "       'highway MPG', 'city mpg', 'Popularity', 'MSRP'],\n",
              "      dtype='object')"
            ]
          },
          "metadata": {},
          "execution_count": 3
        }
      ],
      "source": [
        "#list all columns\n",
        "missingdf.columns"
      ]
    },
    {
      "cell_type": "code",
      "execution_count": 4,
      "metadata": {
        "colab": {
          "base_uri": "https://localhost:8080/"
        },
        "id": "aUHNSM_ax3Di",
        "outputId": "30f83a53-5225-451d-f547-4b27d74de1af"
      },
      "outputs": [
        {
          "output_type": "execute_result",
          "data": {
            "text/plain": [
              "Make                  object\n",
              "Model                 object\n",
              "Year                   int64\n",
              "Engine Fuel Type      object\n",
              "Engine HP            float64\n",
              "Engine Cylinders     float64\n",
              "Transmission Type     object\n",
              "Driven_Wheels         object\n",
              "Number of Doors      float64\n",
              "Market Category       object\n",
              "Vehicle Size          object\n",
              "Vehicle Style         object\n",
              "highway MPG            int64\n",
              "city mpg               int64\n",
              "Popularity             int64\n",
              "MSRP                   int64\n",
              "dtype: object"
            ]
          },
          "metadata": {},
          "execution_count": 4
        }
      ],
      "source": [
        "#see data types\n",
        "missingdf.dtypes"
      ]
    },
    {
      "cell_type": "markdown",
      "metadata": {
        "id": "mp0pKzzzyIoN"
      },
      "source": [
        "# Lets Treat Missing Values First"
      ]
    },
    {
      "cell_type": "markdown",
      "source": [],
      "metadata": {
        "id": "Lfr4zZgQPwuU"
      }
    },
    {
      "cell_type": "code",
      "execution_count": 5,
      "metadata": {
        "colab": {
          "base_uri": "https://localhost:8080/"
        },
        "id": "_xUt3ZDQyD5a",
        "outputId": "2e77731c-5c6d-4aac-bece-6ba2353b9a94"
      },
      "outputs": [
        {
          "output_type": "execute_result",
          "data": {
            "text/plain": [
              "Make                    0\n",
              "Model                   0\n",
              "Year                    0\n",
              "Engine Fuel Type        3\n",
              "Engine HP              69\n",
              "Engine Cylinders       30\n",
              "Transmission Type       0\n",
              "Driven_Wheels           0\n",
              "Number of Doors         6\n",
              "Market Category      3742\n",
              "Vehicle Size            0\n",
              "Vehicle Style           0\n",
              "highway MPG             0\n",
              "city mpg                0\n",
              "Popularity              0\n",
              "MSRP                    0\n",
              "dtype: int64"
            ]
          },
          "metadata": {},
          "execution_count": 5
        }
      ],
      "source": [
        "#we remove missings first. Let's see how many missings we have\n",
        "missingdf.isnull().sum()"
      ]
    },
    {
      "cell_type": "code",
      "source": [
        "mano.heatmap(missingdf, figsize=(12,6))"
      ],
      "metadata": {
        "colab": {
          "base_uri": "https://localhost:8080/",
          "height": 494
        },
        "id": "v9l_R-H2TczU",
        "outputId": "e861ed14-fdd9-4d04-e48c-611045f2549a"
      },
      "execution_count": 6,
      "outputs": [
        {
          "output_type": "execute_result",
          "data": {
            "text/plain": [
              "<Axes: >"
            ]
          },
          "metadata": {},
          "execution_count": 6
        },
        {
          "output_type": "display_data",
          "data": {
            "text/plain": [
              "<Figure size 864x432 with 2 Axes>"
            ],
            "image/png": "[encoded data removed]"
          },
          "metadata": {
            "needs_background": "light"
          }
        }
      ]
    },
    {
      "cell_type": "markdown",
      "metadata": {
        "id": "zvyYt9X3yTs2"
      },
      "source": [
        "Let us first fix Engine Fuel type"
      ]
    },
    {
      "cell_type": "code",
      "execution_count": 7,
      "metadata": {
        "colab": {
          "base_uri": "https://localhost:8080/"
        },
        "id": "A6pJLgs_ya1f",
        "outputId": "e7aa59c6-0fad-49df-8052-ac2967f87f09"
      },
      "outputs": [
        {
          "output_type": "execute_result",
          "data": {
            "text/plain": [
              "regular unleaded                                7172\n",
              "premium unleaded (required)                     2009\n",
              "premium unleaded (recommended)                  1523\n",
              "flex-fuel (unleaded/E85)                         899\n",
              "diesel                                           154\n",
              "electric                                          66\n",
              "flex-fuel (premium unleaded required/E85)         54\n",
              "flex-fuel (premium unleaded recommended/E85)      26\n",
              "flex-fuel (unleaded/natural gas)                   6\n",
              "natural gas                                        2\n",
              "Name: Engine Fuel Type, dtype: int64"
            ]
          },
          "metadata": {},
          "execution_count": 7
        }
      ],
      "source": [
        "#Dealing with fuel type (let's see the distribution) here we see the mode\n",
        "missingdf['Engine Fuel Type'].value_counts()"
      ]
    },
    {
      "cell_type": "markdown",
      "metadata": {
        "id": "zlt6Wfx2yfRo"
      },
      "source": [
        "Here the ideal choice will be filling by mode as we can see \"Regular Unleaded\" is quite superior"
      ]
    },
    {
      "cell_type": "code",
      "execution_count": 8,
      "metadata": {
        "colab": {
          "base_uri": "https://localhost:8080/"
        },
        "id": "f7iIss9LymEB",
        "outputId": "cbdfbe95-250b-42ac-bf6a-5d7f2517dfbf"
      },
      "outputs": [
        {
          "output_type": "execute_result",
          "data": {
            "text/plain": [
              "Make                    0\n",
              "Model                   0\n",
              "Year                    0\n",
              "Engine Fuel Type        0\n",
              "Engine HP              69\n",
              "Engine Cylinders       30\n",
              "Transmission Type       0\n",
              "Driven_Wheels           0\n",
              "Number of Doors         6\n",
              "Market Category      3742\n",
              "Vehicle Size            0\n",
              "Vehicle Style           0\n",
              "highway MPG             0\n",
              "city mpg                0\n",
              "Popularity              0\n",
              "MSRP                    0\n",
              "dtype: int64"
            ]
          },
          "metadata": {},
          "execution_count": 8
        }
      ],
      "source": [
        "#let us replace the one missing value by the mode, i.e., regular unleaded and the data is seen again with the values treated\n",
        "missingdf['Engine Fuel Type'].fillna('regular unleaded',inplace=True)\n",
        "missingdf.isnull().sum()"
      ]
    },
    {
      "cell_type": "markdown",
      "metadata": {
        "id": "v0IcNsw9z0hJ"
      },
      "source": [
        "We are done with fuel type, now lets do number of doors"
      ]
    },
    {
      "cell_type": "code",
      "execution_count": 9,
      "metadata": {
        "colab": {
          "base_uri": "https://localhost:8080/"
        },
        "id": "S8qgNYIo0A86",
        "outputId": "c087d0d5-90e7-45a2-d4b6-34118afbf842"
      },
      "outputs": [
        {
          "output_type": "execute_result",
          "data": {
            "text/plain": [
              "4.0    8353\n",
              "2.0    3160\n",
              "3.0     395\n",
              "Name: Number of Doors, dtype: int64"
            ]
          },
          "metadata": {},
          "execution_count": 9
        }
      ],
      "source": [
        "missingdf['Number of Doors'].value_counts()"
      ]
    },
    {
      "cell_type": "markdown",
      "metadata": {
        "id": "MkFGpMRJ0KKX"
      },
      "source": [
        "Here again we wil do Mode as we can see \"4\" consits of almost 80% data"
      ]
    },
    {
      "cell_type": "code",
      "execution_count": 10,
      "metadata": {
        "colab": {
          "base_uri": "https://localhost:8080/"
        },
        "id": "ZFrkuosn0Qru",
        "outputId": "c05410a5-4100-40c6-e0b6-690f8335e221"
      },
      "outputs": [
        {
          "output_type": "execute_result",
          "data": {
            "text/plain": [
              "Make                    0\n",
              "Model                   0\n",
              "Year                    0\n",
              "Engine Fuel Type        0\n",
              "Engine HP              69\n",
              "Engine Cylinders       30\n",
              "Transmission Type       0\n",
              "Driven_Wheels           0\n",
              "Number of Doors         0\n",
              "Market Category      3742\n",
              "Vehicle Size            0\n",
              "Vehicle Style           0\n",
              "highway MPG             0\n",
              "city mpg                0\n",
              "Popularity              0\n",
              "MSRP                    0\n",
              "dtype: int64"
            ]
          },
          "metadata": {},
          "execution_count": 10
        }
      ],
      "source": [
        "missingdf['Number of Doors'].fillna(4,inplace=True)\n",
        "missingdf.isnull().sum()"
      ]
    },
    {
      "cell_type": "markdown",
      "metadata": {
        "id": "AD-lQEbb0YGz"
      },
      "source": [
        "Now lets take a look at Engine HP distribution"
      ]
    },
    {
      "cell_type": "code",
      "execution_count": 11,
      "metadata": {
        "colab": {
          "base_uri": "https://localhost:8080/"
        },
        "id": "pDXKHznW0b6W",
        "outputId": "1df3b972-337b-4c74-b990-83ada5f44ce5"
      },
      "outputs": [
        {
          "output_type": "execute_result",
          "data": {
            "text/plain": [
              "200.0    456\n",
              "170.0    351\n",
              "210.0    320\n",
              "240.0    268\n",
              "285.0    246\n",
              "        ... \n",
              "660.0      1\n",
              "661.0      1\n",
              "573.0      1\n",
              "592.0      1\n",
              "154.0      1\n",
              "Name: Engine HP, Length: 356, dtype: int64"
            ]
          },
          "metadata": {},
          "execution_count": 11
        }
      ],
      "source": [
        "missingdf['Engine HP'].value_counts()"
      ]
    },
    {
      "cell_type": "markdown",
      "metadata": {
        "id": "2VwDR115i2gC"
      },
      "source": [
        "here we cannot do Mean Median Mode because values can vary accordingly"
      ]
    },
    {
      "cell_type": "markdown",
      "metadata": {
        "id": "YUejb8Tbmm7r"
      },
      "source": [
        "To fill engine HP, my approach is to do KNN of MSRP or Vehicle Cateogary and Engine HP"
      ]
    },
    {
      "cell_type": "code",
      "execution_count": 12,
      "metadata": {
        "id": "PUinKcmLoLnh"
      },
      "outputs": [],
      "source": [
        "#making two categories of engine HP \n",
        "df_missing = missingdf['Engine HP'].isnull()\n",
        "df_not_missing = missingdf['Engine HP'].notnull()"
      ]
    },
    {
      "cell_type": "code",
      "execution_count": 13,
      "metadata": {
        "colab": {
          "base_uri": "https://localhost:8080/",
          "height": 658
        },
        "id": "4HP1ZE3volxX",
        "outputId": "dd5140c9-37b8-4197-e3a9-2db870582dd2"
      },
      "outputs": [
        {
          "output_type": "execute_result",
          "data": {
            "text/plain": [
              "          Make       Model  Year                Engine Fuel Type  Engine HP  \\\n",
              "0          BMW  1 Series M  2011     premium unleaded (required)      335.0   \n",
              "1          BMW    1 Series  2011     premium unleaded (required)      300.0   \n",
              "2          BMW    1 Series  2011     premium unleaded (required)      300.0   \n",
              "3          BMW    1 Series  2011     premium unleaded (required)      230.0   \n",
              "4          BMW    1 Series  2011     premium unleaded (required)      230.0   \n",
              "...        ...         ...   ...                             ...        ...   \n",
              "11909    Acura         ZDX  2012     premium unleaded (required)      300.0   \n",
              "11910    Acura         ZDX  2012     premium unleaded (required)      300.0   \n",
              "11911    Acura         ZDX  2012     premium unleaded (required)      300.0   \n",
              "11912    Acura         ZDX  2013  premium unleaded (recommended)      300.0   \n",
              "11913  Lincoln      Zephyr  2006                regular unleaded      221.0   \n",
              "\n",
              "       Engine Cylinders Transmission Type      Driven_Wheels  Number of Doors  \\\n",
              "0                   6.0            MANUAL   rear wheel drive              2.0   \n",
              "1                   6.0            MANUAL   rear wheel drive              2.0   \n",
              "2                   6.0            MANUAL   rear wheel drive              2.0   \n",
              "3                   6.0            MANUAL   rear wheel drive              2.0   \n",
              "4                   6.0            MANUAL   rear wheel drive              2.0   \n",
              "...                 ...               ...                ...              ...   \n",
              "11909               6.0         AUTOMATIC    all wheel drive              4.0   \n",
              "11910               6.0         AUTOMATIC    all wheel drive              4.0   \n",
              "11911               6.0         AUTOMATIC    all wheel drive              4.0   \n",
              "11912               6.0         AUTOMATIC    all wheel drive              4.0   \n",
              "11913               6.0         AUTOMATIC  front wheel drive              4.0   \n",
              "\n",
              "                             Market Category Vehicle Size  Vehicle Style  \\\n",
              "0      Factory Tuner,Luxury,High-Performance      Compact          Coupe   \n",
              "1                         Luxury,Performance      Compact    Convertible   \n",
              "2                    Luxury,High-Performance      Compact          Coupe   \n",
              "3                         Luxury,Performance      Compact          Coupe   \n",
              "4                                     Luxury      Compact    Convertible   \n",
              "...                                      ...          ...            ...   \n",
              "11909             Crossover,Hatchback,Luxury      Midsize  4dr Hatchback   \n",
              "11910             Crossover,Hatchback,Luxury      Midsize  4dr Hatchback   \n",
              "11911             Crossover,Hatchback,Luxury      Midsize  4dr Hatchback   \n",
              "11912             Crossover,Hatchback,Luxury      Midsize  4dr Hatchback   \n",
              "11913                                 Luxury      Midsize          Sedan   \n",
              "\n",
              "       highway MPG  city mpg  Popularity     MSRP  \n",
              "0               26        19        3916  46135.0  \n",
              "1               28        19        3916  40650.0  \n",
              "2               28        20        3916  36350.0  \n",
              "3               28        18        3916  29450.0  \n",
              "4               28        18        3916  34500.0  \n",
              "...            ...       ...         ...      ...  \n",
              "11909           23        16         204  46120.0  \n",
              "11910           23        16         204  56670.0  \n",
              "11911           23        16         204  50620.0  \n",
              "11912           23        16         204  50920.0  \n",
              "11913           26        17          61  28995.0  \n",
              "\n",
              "[11914 rows x 16 columns]"
            ],
            "text/html": [
              "\n",
              "  <div id=\"df-6e020e99-9c00-4922-9bbd-b4da0711016c\">\n",
              "    <div class=\"colab-df-container\">\n",
              "      <div>\n",
              "<style scoped>\n",
              "    .dataframe tbody tr th:only-of-type {\n",
              "        vertical-align: middle;\n",
              "    }\n",
              "\n",
              "    .dataframe tbody tr th {\n",
              "        vertical-align: top;\n",
              "    }\n",
              "\n",
              "    .dataframe thead th {\n",
              "        text-align: right;\n",
              "    }\n",
              "</style>\n",
              "<table border=\"1\" class=\"dataframe\">\n",
              "  <thead>\n",
              "    <tr style=\"text-align: right;\">\n",
              "      <th></th>\n",
              "      <th>Make</th>\n",
              "      <th>Model</th>\n",
              "      <th>Year</th>\n",
              "      <th>Engine Fuel Type</th>\n",
              "      <th>Engine HP</th>\n",
              "      <th>Engine Cylinders</th>\n",
              "      <th>Transmission Type</th>\n",
              "      <th>Driven_Wheels</th>\n",
              "      <th>Number of Doors</th>\n",
              "      <th>Market Category</th>\n",
              "      <th>Vehicle Size</th>\n",
              "      <th>Vehicle Style</th>\n",
              "      <th>highway MPG</th>\n",
              "      <th>city mpg</th>\n",
              "      <th>Popularity</th>\n",
              "      <th>MSRP</th>\n",
              "    </tr>\n",
              "  </thead>\n",
              "  <tbody>\n",
              "    <tr>\n",
              "      <th>0</th>\n",
              "      <td>BMW</td>\n",
              "      <td>1 Series M</td>\n",
              "      <td>2011</td>\n",
              "      <td>premium unleaded (required)</td>\n",
              "      <td>335.0</td>\n",
              "      <td>6.0</td>\n",
              "      <td>MANUAL</td>\n",
              "      <td>rear wheel drive</td>\n",
              "      <td>2.0</td>\n",
              "      <td>Factory Tuner,Luxury,High-Performance</td>\n",
              "      <td>Compact</td>\n",
              "      <td>Coupe</td>\n",
              "      <td>26</td>\n",
              "      <td>19</td>\n",
              "      <td>3916</td>\n",
              "      <td>46135.0</td>\n",
              "    </tr>\n",
              "    <tr>\n",
              "      <th>1</th>\n",
              "      <td>BMW</td>\n",
              "      <td>1 Series</td>\n",
              "      <td>2011</td>\n",
              "      <td>premium unleaded (required)</td>\n",
              "      <td>300.0</td>\n",
              "      <td>6.0</td>\n",
              "      <td>MANUAL</td>\n",
              "      <td>rear wheel drive</td>\n",
              "      <td>2.0</td>\n",
              "      <td>Luxury,Performance</td>\n",
              "      <td>Compact</td>\n",
              "      <td>Convertible</td>\n",
              "      <td>28</td>\n",
              "      <td>19</td>\n",
              "      <td>3916</td>\n",
              "      <td>40650.0</td>\n",
              "    </tr>\n",
              "    <tr>\n",
              "      <th>2</th>\n",
              "      <td>BMW</td>\n",
              "      <td>1 Series</td>\n",
              "      <td>2011</td>\n",
              "      <td>premium unleaded (required)</td>\n",
              "      <td>300.0</td>\n",
              "      <td>6.0</td>\n",
              "      <td>MANUAL</td>\n",
              "      <td>rear wheel drive</td>\n",
              "      <td>2.0</td>\n",
              "      <td>Luxury,High-Performance</td>\n",
              "      <td>Compact</td>\n",
              "      <td>Coupe</td>\n",
              "      <td>28</td>\n",
              "      <td>20</td>\n",
              "      <td>3916</td>\n",
              "      <td>36350.0</td>\n",
              "    </tr>\n",
              "    <tr>\n",
              "      <th>3</th>\n",
              "      <td>BMW</td>\n",
              "      <td>1 Series</td>\n",
              "      <td>2011</td>\n",
              "      <td>premium unleaded (required)</td>\n",
              "      <td>230.0</td>\n",
              "      <td>6.0</td>\n",
              "      <td>MANUAL</td>\n",
              "      <td>rear wheel drive</td>\n",
              "      <td>2.0</td>\n",
              "      <td>Luxury,Performance</td>\n",
              "      <td>Compact</td>\n",
              "      <td>Coupe</td>\n",
              "      <td>28</td>\n",
              "      <td>18</td>\n",
              "      <td>3916</td>\n",
              "      <td>29450.0</td>\n",
              "    </tr>\n",
              "    <tr>\n",
              "      <th>4</th>\n",
              "      <td>BMW</td>\n",
              "      <td>1 Series</td>\n",
              "      <td>2011</td>\n",
              "      <td>premium unleaded (required)</td>\n",
              "      <td>230.0</td>\n",
              "      <td>6.0</td>\n",
              "      <td>MANUAL</td>\n",
              "      <td>rear wheel drive</td>\n",
              "      <td>2.0</td>\n",
              "      <td>Luxury</td>\n",
              "      <td>Compact</td>\n",
              "      <td>Convertible</td>\n",
              "      <td>28</td>\n",
              "      <td>18</td>\n",
              "      <td>3916</td>\n",
              "      <td>34500.0</td>\n",
              "    </tr>\n",
              "    <tr>\n",
              "      <th>...</th>\n",
              "      <td>...</td>\n",
              "      <td>...</td>\n",
              "      <td>...</td>\n",
              "      <td>...</td>\n",
              "      <td>...</td>\n",
              "      <td>...</td>\n",
              "      <td>...</td>\n",
              "      <td>...</td>\n",
              "      <td>...</td>\n",
              "      <td>...</td>\n",
              "      <td>...</td>\n",
              "      <td>...</td>\n",
              "      <td>...</td>\n",
              "      <td>...</td>\n",
              "      <td>...</td>\n",
              "      <td>...</td>\n",
              "    </tr>\n",
              "    <tr>\n",
              "      <th>11909</th>\n",
              "      <td>Acura</td>\n",
              "      <td>ZDX</td>\n",
              "      <td>2012</td>\n",
              "      <td>premium unleaded (required)</td>\n",
              "      <td>300.0</td>\n",
              "      <td>6.0</td>\n",
              "      <td>AUTOMATIC</td>\n",
              "      <td>all wheel drive</td>\n",
              "      <td>4.0</td>\n",
              "      <td>Crossover,Hatchback,Luxury</td>\n",
              "      <td>Midsize</td>\n",
              "      <td>4dr Hatchback</td>\n",
              "      <td>23</td>\n",
              "      <td>16</td>\n",
              "      <td>204</td>\n",
              "      <td>46120.0</td>\n",
              "    </tr>\n",
              "    <tr>\n",
              "      <th>11910</th>\n",
              "      <td>Acura</td>\n",
              "      <td>ZDX</td>\n",
              "      <td>2012</td>\n",
              "      <td>premium unleaded (required)</td>\n",
              "      <td>300.0</td>\n",
              "      <td>6.0</td>\n",
              "      <td>AUTOMATIC</td>\n",
              "      <td>all wheel drive</td>\n",
              "      <td>4.0</td>\n",
              "      <td>Crossover,Hatchback,Luxury</td>\n",
              "      <td>Midsize</td>\n",
              "      <td>4dr Hatchback</td>\n",
              "      <td>23</td>\n",
              "      <td>16</td>\n",
              "      <td>204</td>\n",
              "      <td>56670.0</td>\n",
              "    </tr>\n",
              "    <tr>\n",
              "      <th>11911</th>\n",
              "      <td>Acura</td>\n",
              "      <td>ZDX</td>\n",
              "      <td>2012</td>\n",
              "      <td>premium unleaded (required)</td>\n",
              "      <td>300.0</td>\n",
              "      <td>6.0</td>\n",
              "      <td>AUTOMATIC</td>\n",
              "      <td>all wheel drive</td>\n",
              "      <td>4.0</td>\n",
              "      <td>Crossover,Hatchback,Luxury</td>\n",
              "      <td>Midsize</td>\n",
              "      <td>4dr Hatchback</td>\n",
              "      <td>23</td>\n",
              "      <td>16</td>\n",
              "      <td>204</td>\n",
              "      <td>50620.0</td>\n",
              "    </tr>\n",
              "    <tr>\n",
              "      <th>11912</th>\n",
              "      <td>Acura</td>\n",
              "      <td>ZDX</td>\n",
              "      <td>2013</td>\n",
              "      <td>premium unleaded (recommended)</td>\n",
              "      <td>300.0</td>\n",
              "      <td>6.0</td>\n",
              "      <td>AUTOMATIC</td>\n",
              "      <td>all wheel drive</td>\n",
              "      <td>4.0</td>\n",
              "      <td>Crossover,Hatchback,Luxury</td>\n",
              "      <td>Midsize</td>\n",
              "      <td>4dr Hatchback</td>\n",
              "      <td>23</td>\n",
              "      <td>16</td>\n",
              "      <td>204</td>\n",
              "      <td>50920.0</td>\n",
              "    </tr>\n",
              "    <tr>\n",
              "      <th>11913</th>\n",
              "      <td>Lincoln</td>\n",
              "      <td>Zephyr</td>\n",
              "      <td>2006</td>\n",
              "      <td>regular unleaded</td>\n",
              "      <td>221.0</td>\n",
              "      <td>6.0</td>\n",
              "      <td>AUTOMATIC</td>\n",
              "      <td>front wheel drive</td>\n",
              "      <td>4.0</td>\n",
              "      <td>Luxury</td>\n",
              "      <td>Midsize</td>\n",
              "      <td>Sedan</td>\n",
              "      <td>26</td>\n",
              "      <td>17</td>\n",
              "      <td>61</td>\n",
              "      <td>28995.0</td>\n",
              "    </tr>\n",
              "  </tbody>\n",
              "</table>\n",
              "<p>11914 rows × 16 columns</p>\n",
              "</div>\n",
              "      <button class=\"colab-df-convert\" onclick=\"convertToInteractive('df-6e020e99-9c00-4922-9bbd-b4da0711016c')\"\n",
              "              title=\"Convert this dataframe to an interactive table.\"\n",
              "              style=\"display:none;\">\n",
              "        \n",
              "  <svg xmlns=\"http://www.w3.org/2000/svg\" height=\"24px\"viewBox=\"0 0 24 24\"\n",
              "       width=\"24px\">\n",
              "    <path d=\"M0 0h24v24H0V0z\" fill=\"none\"/>\n",
              "    <path d=\"M18.56 5.44l.94 2.06.94-2.06 2.06-.94-2.06-.94-.94-2.06-.94 2.06-2.06.94zm-11 1L8.5 8.5l.94-2.06 2.06-.94-2.06-.94L8.5 2.5l-.94 2.06-2.06.94zm10 10l.94 2.06.94-2.06 2.06-.94-2.06-.94-.94-2.06-.94 2.06-2.06.94z\"/><path d=\"M17.41 7.96l-1.37-1.37c-.4-.4-.92-.59-1.43-.59-.52 0-1.04.2-1.43.59L10.3 9.45l-7.72 7.72c-.78.78-.78 2.05 0 2.83L4 21.41c.39.39.9.59 1.41.59.51 0 1.02-.2 1.41-.59l7.78-7.78 2.81-2.81c.8-.78.8-2.07 0-2.86zM5.41 20L4 18.59l7.72-7.72 1.47 1.35L5.41 20z\"/>\n",
              "  </svg>\n",
              "      </button>\n",
              "      \n",
              "  <style>\n",
              "    .colab-df-container {\n",
              "      display:flex;\n",
              "      flex-wrap:wrap;\n",
              "      gap: 12px;\n",
              "    }\n",
              "\n",
              "    .colab-df-convert {\n",
              "      background-color: #E8F0FE;\n",
              "      border: none;\n",
              "      border-radius: 50%;\n",
              "      cursor: pointer;\n",
              "      display: none;\n",
              "      fill: #1967D2;\n",
              "      height: 32px;\n",
              "      padding: 0 0 0 0;\n",
              "      width: 32px;\n",
              "    }\n",
              "\n",
              "    .colab-df-convert:hover {\n",
              "      background-color: #E2EBFA;\n",
              "      box-shadow: 0px 1px 2px rgba(60, 64, 67, 0.3), 0px 1px 3px 1px rgba(60, 64, 67, 0.15);\n",
              "      fill: #174EA6;\n",
              "    }\n",
              "\n",
              "    [theme=dark] .colab-df-convert {\n",
              "      background-color: #3B4455;\n",
              "      fill: #D2E3FC;\n",
              "    }\n",
              "\n",
              "    [theme=dark] .colab-df-convert:hover {\n",
              "      background-color: #434B5C;\n",
              "      box-shadow: 0px 1px 3px 1px rgba(0, 0, 0, 0.15);\n",
              "      filter: drop-shadow(0px 1px 2px rgba(0, 0, 0, 0.3));\n",
              "      fill: #FFFFFF;\n",
              "    }\n",
              "  </style>\n",
              "\n",
              "      <script>\n",
              "        const buttonEl =\n",
              "          document.querySelector('#df-6e020e99-9c00-4922-9bbd-b4da0711016c button.colab-df-convert');\n",
              "        buttonEl.style.display =\n",
              "          google.colab.kernel.accessAllowed ? 'block' : 'none';\n",
              "\n",
              "        async function convertToInteractive(key) {\n",
              "          const element = document.querySelector('#df-6e020e99-9c00-4922-9bbd-b4da0711016c');\n",
              "          const dataTable =\n",
              "            await google.colab.kernel.invokeFunction('convertToInteractive',\n",
              "                                                     [key], {});\n",
              "          if (!dataTable) return;\n",
              "\n",
              "          const docLinkHtml = 'Like what you see? Visit the ' +\n",
              "            '<a target=\"_blank\" href=https://colab.research.google.com/notebooks/data_table.ipynb>data table notebook</a>'\n",
              "            + ' to learn more about interactive tables.';\n",
              "          element.innerHTML = '';\n",
              "          dataTable['output_type'] = 'display_data';\n",
              "          await google.colab.output.renderOutput(dataTable, element);\n",
              "          const docLink = document.createElement('div');\n",
              "          docLink.innerHTML = docLinkHtml;\n",
              "          element.appendChild(docLink);\n",
              "        }\n",
              "      </script>\n",
              "    </div>\n",
              "  </div>\n",
              "  "
            ]
          },
          "metadata": {},
          "execution_count": 13
        }
      ],
      "source": [
        "from sklearn.impute import KNNImputer\n",
        "imputer = KNNImputer (n_neighbors=10)\n",
        "missingdf_knn = missingdf.copy(deep=True)\n",
        "missingdf_knn[['MSRP','Engine HP']] = imputer.fit_transform(missingdf_knn[['MSRP','Engine HP']])\n",
        "missingdf_knn"
      ]
    },
    {
      "cell_type": "code",
      "execution_count": 14,
      "metadata": {
        "id": "Fo3u8tjEqRz8"
      },
      "outputs": [],
      "source": [
        "df_imputed = pd.concat([df_not_missing, df_missing], axis=0).sort_index()\n"
      ]
    },
    {
      "cell_type": "code",
      "execution_count": 15,
      "metadata": {
        "colab": {
          "base_uri": "https://localhost:8080/",
          "height": 334
        },
        "id": "8yUHk27Vqg3Y",
        "outputId": "3b862212-ae8a-440d-ca6a-0ce9aea7a153"
      },
      "outputs": [
        {
          "output_type": "stream",
          "name": "stderr",
          "text": [
            "/usr/local/lib/python3.9/dist-packages/pandas/plotting/_matplotlib/core.py:1114: UserWarning: No data for colormapping provided via 'c'. Parameters 'cmap' will be ignored\n",
            "  scatter = ax.scatter(\n"
          ]
        },
        {
          "output_type": "execute_result",
          "data": {
            "text/plain": [
              "<Axes: xlabel='MSRP', ylabel='Engine HP'>"
            ]
          },
          "metadata": {},
          "execution_count": 15
        },
        {
          "output_type": "display_data",
          "data": {
            "text/plain": [
              "<Figure size 432x288 with 1 Axes>"
            ],
            "image/png": "[encoded data removed]"
          },
          "metadata": {
            "needs_background": "light"
          }
        }
      ],
      "source": [
        "missingdf_knn.plot(x='MSRP',y='Engine HP',kind='scatter',alpha=0.5,cmap='rainbow')"
      ]
    },
    {
      "cell_type": "markdown",
      "metadata": {
        "id": "j1vGib1_vRVK"
      },
      "source": [
        "we did KNN and it failed as Engine HP and MSRP are not showing any great relation so we are now going for mean regression"
      ]
    },
    {
      "cell_type": "code",
      "execution_count": 16,
      "metadata": {
        "id": "yBTmosGftiLk"
      },
      "outputs": [],
      "source": [
        "missingdf['Vehicle Style'] = missingdf['Vehicle Style'].astype(str)"
      ]
    },
    {
      "cell_type": "code",
      "execution_count": 17,
      "metadata": {
        "id": "jhWi9MDnsTMF"
      },
      "outputs": [],
      "source": [
        "means_by_category = missingdf.groupby('Vehicle Style')['Engine HP'].mean()\n"
      ]
    },
    {
      "cell_type": "code",
      "execution_count": 18,
      "metadata": {
        "id": "iunYzeI0t7Dp"
      },
      "outputs": [],
      "source": [
        "missingdf['Engine HP'] = missingdf['Vehicle Style'].apply(lambda x: means_by_category[x])\n"
      ]
    },
    {
      "cell_type": "code",
      "execution_count": 19,
      "metadata": {
        "id": "q2M1dGvNuH0K"
      },
      "outputs": [],
      "source": [
        "df_imputed = pd.concat([df_not_missing, df_missing], axis=0).sort_index()\n"
      ]
    },
    {
      "cell_type": "code",
      "execution_count": 20,
      "metadata": {
        "id": "WyyxFoj9umpi"
      },
      "outputs": [],
      "source": [
        "means_by_category = missingdf.groupby('Vehicle Style')['Engine HP'].mean()\n",
        "missingdf['Engine HP'] = missingdf.apply(lambda row: means_by_category[row['Vehicle Style']] if pd.isna(row['Engine HP']) else row['Engine HP'], axis=1)\n"
      ]
    },
    {
      "cell_type": "code",
      "execution_count": 21,
      "metadata": {
        "colab": {
          "base_uri": "https://localhost:8080/"
        },
        "id": "S5swDrLPvMl0",
        "outputId": "8d07894a-eb1a-48a4-8ba2-4c33af2c5eba"
      },
      "outputs": [
        {
          "output_type": "execute_result",
          "data": {
            "text/plain": [
              "Make                    0\n",
              "Model                   0\n",
              "Year                    0\n",
              "Engine Fuel Type        0\n",
              "Engine HP               0\n",
              "Engine Cylinders       30\n",
              "Transmission Type       0\n",
              "Driven_Wheels           0\n",
              "Number of Doors         0\n",
              "Market Category      3742\n",
              "Vehicle Size            0\n",
              "Vehicle Style           0\n",
              "highway MPG             0\n",
              "city mpg                0\n",
              "Popularity              0\n",
              "MSRP                    0\n",
              "dtype: int64"
            ]
          },
          "metadata": {},
          "execution_count": 21
        }
      ],
      "source": [
        "missingdf.isnull().sum()"
      ]
    },
    {
      "cell_type": "markdown",
      "metadata": {
        "id": "qJJS4oZGvnSv"
      },
      "source": [
        "Now lets take a look at Engine Cylinder"
      ]
    },
    {
      "cell_type": "code",
      "execution_count": 22,
      "metadata": {
        "colab": {
          "base_uri": "https://localhost:8080/"
        },
        "id": "9q1HDcOwyOXi",
        "outputId": "a1610d01-8986-4d44-e4e5-fd0c0312db86"
      },
      "outputs": [
        {
          "output_type": "execute_result",
          "data": {
            "text/plain": [
              "4.0     4752\n",
              "6.0     4489\n",
              "8.0     2031\n",
              "12.0     230\n",
              "5.0      225\n",
              "10.0      68\n",
              "0.0       56\n",
              "3.0       30\n",
              "16.0       3\n",
              "Name: Engine Cylinders, dtype: int64"
            ]
          },
          "metadata": {},
          "execution_count": 22
        }
      ],
      "source": [
        "missingdf['Engine Cylinders'].value_counts()"
      ]
    },
    {
      "cell_type": "markdown",
      "metadata": {
        "id": "K3WFTf6HwR8W"
      },
      "source": [
        "Here we can see there are 56 values that say 0 cylinders which i believe is wrong, lets map a relationship between cylinder and HP"
      ]
    },
    {
      "cell_type": "code",
      "execution_count": 23,
      "metadata": {
        "colab": {
          "base_uri": "https://localhost:8080/",
          "height": 295
        },
        "id": "pXaHeM22ym-t",
        "outputId": "2e3c5ff3-0d9c-48e9-e5e8-ca7af2201131"
      },
      "outputs": [
        {
          "output_type": "display_data",
          "data": {
            "text/plain": [
              "<Figure size 432x288 with 1 Axes>"
            ],
            "image/png": "[encoded data removed]"
          },
          "metadata": {
            "needs_background": "light"
          }
        }
      ],
      "source": [
        "import matplotlib.pyplot as plt\n",
        "\n",
        "# Create a scatter plot of engine HP vs. engine cylinders\n",
        "plt.scatter(missingdf['Engine HP'], missingdf['Engine Cylinders'], alpha=0.5)\n",
        "\n",
        "# Add a title and labels for the axes\n",
        "plt.title('Engine HP vs. Engine Cylinders')\n",
        "plt.xlabel('Engine HP')\n",
        "plt.ylabel('Engine Cylinders')\n",
        "\n",
        "# Show the plot\n",
        "plt.show()\n"
      ]
    },
    {
      "cell_type": "markdown",
      "metadata": {
        "id": "X1LkfOrZUpoV"
      },
      "source": [
        "I dont think we need Engine Cylinder category since cylinder size does not plays a major part as features, I will discuss this further but for now we are dropping it"
      ]
    },
    {
      "cell_type": "code",
      "execution_count": 24,
      "metadata": {
        "id": "WGIso79hU65D"
      },
      "outputs": [],
      "source": [
        "missingdf = missingdf.drop('Engine Cylinders', axis=1)\n"
      ]
    },
    {
      "cell_type": "markdown",
      "metadata": {
        "id": "kkEhgiAbVw8w"
      },
      "source": [
        "Now lets have a look at market cateogary"
      ]
    },
    {
      "cell_type": "code",
      "execution_count": 25,
      "metadata": {
        "colab": {
          "base_uri": "https://localhost:8080/"
        },
        "id": "AMBXb9iDVz9S",
        "outputId": "38a39376-18bb-49f5-ce93-ee4e21ad8a47"
      },
      "outputs": [
        {
          "output_type": "execute_result",
          "data": {
            "text/plain": [
              "Crossover                                          1110\n",
              "Flex Fuel                                           872\n",
              "Luxury                                              855\n",
              "Luxury,Performance                                  673\n",
              "Hatchback                                           641\n",
              "                                                   ... \n",
              "Crossover,Exotic,Luxury,Performance                   1\n",
              "Exotic,Luxury,High-Performance,Hybrid                 1\n",
              "Crossover,Exotic,Luxury,High-Performance              1\n",
              "Flex Fuel,Factory Tuner,Luxury,High-Performance       1\n",
              "Performance,Hybrid                                    1\n",
              "Name: Market Category, Length: 71, dtype: int64"
            ]
          },
          "metadata": {},
          "execution_count": 25
        }
      ],
      "source": [
        "missingdf['Market Category'].value_counts()"
      ]
    },
    {
      "cell_type": "markdown",
      "source": [
        "Custom API - Treating Missing Market Value using AI Random forest classifier by identifying features and classifing the missing category thru features"
      ],
      "metadata": {
        "id": "sDPYxL_YH8Cq"
      }
    },
    {
      "cell_type": "code",
      "execution_count": 26,
      "metadata": {
        "id": "vcaah1O7V3cZ"
      },
      "outputs": [],
      "source": [
        "from sklearn.ensemble import RandomForestClassifier\n",
        "from sklearn.preprocessing import LabelEncoder\n",
        "from sklearn.model_selection import train_test_split\n",
        "\n"
      ]
    },
    {
      "cell_type": "code",
      "execution_count": 27,
      "metadata": {
        "colab": {
          "base_uri": "https://localhost:8080/"
        },
        "id": "hkJNuddnaEz4",
        "outputId": "c28fc2be-64a6-4aa8-c4a3-7f52e299dfed"
      },
      "outputs": [
        {
          "output_type": "stream",
          "name": "stderr",
          "text": [
            "<ipython-input-27-f25e7a4ec7c7>:16: SettingWithCopyWarning: \n",
            "A value is trying to be set on a copy of a slice from a DataFrame.\n",
            "Try using .loc[row_indexer,col_indexer] = value instead\n",
            "\n",
            "See the caveats in the documentation: https://pandas.pydata.org/pandas-docs/stable/user_guide/indexing.html#returning-a-view-versus-a-copy\n",
            "  train_df[col] = encoder.transform(train_df[col].astype(str))\n",
            "<ipython-input-27-f25e7a4ec7c7>:17: SettingWithCopyWarning: \n",
            "A value is trying to be set on a copy of a slice from a DataFrame.\n",
            "Try using .loc[row_indexer,col_indexer] = value instead\n",
            "\n",
            "See the caveats in the documentation: https://pandas.pydata.org/pandas-docs/stable/user_guide/indexing.html#returning-a-view-versus-a-copy\n",
            "  test_df[col] = encoder.transform(test_df[col].astype(str))\n",
            "<ipython-input-27-f25e7a4ec7c7>:16: SettingWithCopyWarning: \n",
            "A value is trying to be set on a copy of a slice from a DataFrame.\n",
            "Try using .loc[row_indexer,col_indexer] = value instead\n",
            "\n",
            "See the caveats in the documentation: https://pandas.pydata.org/pandas-docs/stable/user_guide/indexing.html#returning-a-view-versus-a-copy\n",
            "  train_df[col] = encoder.transform(train_df[col].astype(str))\n",
            "<ipython-input-27-f25e7a4ec7c7>:17: SettingWithCopyWarning: \n",
            "A value is trying to be set on a copy of a slice from a DataFrame.\n",
            "Try using .loc[row_indexer,col_indexer] = value instead\n",
            "\n",
            "See the caveats in the documentation: https://pandas.pydata.org/pandas-docs/stable/user_guide/indexing.html#returning-a-view-versus-a-copy\n",
            "  test_df[col] = encoder.transform(test_df[col].astype(str))\n",
            "<ipython-input-27-f25e7a4ec7c7>:16: SettingWithCopyWarning: \n",
            "A value is trying to be set on a copy of a slice from a DataFrame.\n",
            "Try using .loc[row_indexer,col_indexer] = value instead\n",
            "\n",
            "See the caveats in the documentation: https://pandas.pydata.org/pandas-docs/stable/user_guide/indexing.html#returning-a-view-versus-a-copy\n",
            "  train_df[col] = encoder.transform(train_df[col].astype(str))\n",
            "<ipython-input-27-f25e7a4ec7c7>:17: SettingWithCopyWarning: \n",
            "A value is trying to be set on a copy of a slice from a DataFrame.\n",
            "Try using .loc[row_indexer,col_indexer] = value instead\n",
            "\n",
            "See the caveats in the documentation: https://pandas.pydata.org/pandas-docs/stable/user_guide/indexing.html#returning-a-view-versus-a-copy\n",
            "  test_df[col] = encoder.transform(test_df[col].astype(str))\n",
            "<ipython-input-27-f25e7a4ec7c7>:16: SettingWithCopyWarning: \n",
            "A value is trying to be set on a copy of a slice from a DataFrame.\n",
            "Try using .loc[row_indexer,col_indexer] = value instead\n",
            "\n",
            "See the caveats in the documentation: https://pandas.pydata.org/pandas-docs/stable/user_guide/indexing.html#returning-a-view-versus-a-copy\n",
            "  train_df[col] = encoder.transform(train_df[col].astype(str))\n",
            "<ipython-input-27-f25e7a4ec7c7>:17: SettingWithCopyWarning: \n",
            "A value is trying to be set on a copy of a slice from a DataFrame.\n",
            "Try using .loc[row_indexer,col_indexer] = value instead\n",
            "\n",
            "See the caveats in the documentation: https://pandas.pydata.org/pandas-docs/stable/user_guide/indexing.html#returning-a-view-versus-a-copy\n",
            "  test_df[col] = encoder.transform(test_df[col].astype(str))\n",
            "<ipython-input-27-f25e7a4ec7c7>:16: SettingWithCopyWarning: \n",
            "A value is trying to be set on a copy of a slice from a DataFrame.\n",
            "Try using .loc[row_indexer,col_indexer] = value instead\n",
            "\n",
            "See the caveats in the documentation: https://pandas.pydata.org/pandas-docs/stable/user_guide/indexing.html#returning-a-view-versus-a-copy\n",
            "  train_df[col] = encoder.transform(train_df[col].astype(str))\n",
            "<ipython-input-27-f25e7a4ec7c7>:17: SettingWithCopyWarning: \n",
            "A value is trying to be set on a copy of a slice from a DataFrame.\n",
            "Try using .loc[row_indexer,col_indexer] = value instead\n",
            "\n",
            "See the caveats in the documentation: https://pandas.pydata.org/pandas-docs/stable/user_guide/indexing.html#returning-a-view-versus-a-copy\n",
            "  test_df[col] = encoder.transform(test_df[col].astype(str))\n",
            "<ipython-input-27-f25e7a4ec7c7>:16: SettingWithCopyWarning: \n",
            "A value is trying to be set on a copy of a slice from a DataFrame.\n",
            "Try using .loc[row_indexer,col_indexer] = value instead\n",
            "\n",
            "See the caveats in the documentation: https://pandas.pydata.org/pandas-docs/stable/user_guide/indexing.html#returning-a-view-versus-a-copy\n",
            "  train_df[col] = encoder.transform(train_df[col].astype(str))\n",
            "<ipython-input-27-f25e7a4ec7c7>:17: SettingWithCopyWarning: \n",
            "A value is trying to be set on a copy of a slice from a DataFrame.\n",
            "Try using .loc[row_indexer,col_indexer] = value instead\n",
            "\n",
            "See the caveats in the documentation: https://pandas.pydata.org/pandas-docs/stable/user_guide/indexing.html#returning-a-view-versus-a-copy\n",
            "  test_df[col] = encoder.transform(test_df[col].astype(str))\n",
            "<ipython-input-27-f25e7a4ec7c7>:16: SettingWithCopyWarning: \n",
            "A value is trying to be set on a copy of a slice from a DataFrame.\n",
            "Try using .loc[row_indexer,col_indexer] = value instead\n",
            "\n",
            "See the caveats in the documentation: https://pandas.pydata.org/pandas-docs/stable/user_guide/indexing.html#returning-a-view-versus-a-copy\n",
            "  train_df[col] = encoder.transform(train_df[col].astype(str))\n",
            "<ipython-input-27-f25e7a4ec7c7>:17: SettingWithCopyWarning: \n",
            "A value is trying to be set on a copy of a slice from a DataFrame.\n",
            "Try using .loc[row_indexer,col_indexer] = value instead\n",
            "\n",
            "See the caveats in the documentation: https://pandas.pydata.org/pandas-docs/stable/user_guide/indexing.html#returning-a-view-versus-a-copy\n",
            "  test_df[col] = encoder.transform(test_df[col].astype(str))\n"
          ]
        },
        {
          "output_type": "stream",
          "name": "stdout",
          "text": [
            "['Performance' 'Performance' 'Performance' ... 'Performance' 'Performance'\n",
            " 'Performance']\n"
          ]
        }
      ],
      "source": [
        "# Split the dataset into training and test sets\n",
        "train_df = missingdf.dropna(subset=['Market Category'])\n",
        "test_df = missingdf[missingdf['Market Category'].isnull()]\n",
        "\n",
        "# using columns as features\n",
        "features = ['Make', 'Model', 'Year', 'Engine Fuel Type', 'Engine HP',\n",
        "             'Transmission Type', 'Driven_Wheels',\n",
        "            'Number of Doors', 'Vehicle Size', 'Vehicle Style',\n",
        "            'highway MPG', 'city mpg', 'Popularity', 'MSRP']\n",
        "\n",
        "#process the data by encoding features\n",
        "encoder = LabelEncoder()\n",
        "for col in features:\n",
        "    if missingdf[col].dtype == 'object':\n",
        "        encoder.fit(missingdf[col].astype(str)) # Fit on the entire dataset\n",
        "        train_df[col] = encoder.transform(train_df[col].astype(str))\n",
        "        test_df[col] = encoder.transform(test_df[col].astype(str))\n",
        "\n",
        "# Train a random forest classifier on the training set\n",
        "rf = RandomForestClassifier(n_estimators=100, random_state=42)\n",
        "X_train = train_df[features]\n",
        "y_train = train_df['Market Category']\n",
        "rf.fit(X_train, y_train)\n",
        "\n",
        "# Use the trained model to predict the missing values in the test set\n",
        "X_test = test_df[features]\n",
        "y_pred = rf.predict(X_test)\n",
        "\n",
        "# Impute the missing values in the 'Market Category' column of the original dataset\n",
        "missingdf.loc[missingdf['Market Category'].isnull(), 'Market Category'] = y_pred\n",
        "print(y_pred)"
      ]
    },
    {
      "cell_type": "code",
      "execution_count": 28,
      "metadata": {
        "colab": {
          "base_uri": "https://localhost:8080/"
        },
        "id": "Vh7C_nn8dvrb",
        "outputId": "1ad0a127-5125-4a5a-9457-8afeb8278273"
      },
      "outputs": [
        {
          "output_type": "execute_result",
          "data": {
            "text/plain": [
              "Make                 0\n",
              "Model                0\n",
              "Year                 0\n",
              "Engine Fuel Type     0\n",
              "Engine HP            0\n",
              "Transmission Type    0\n",
              "Driven_Wheels        0\n",
              "Number of Doors      0\n",
              "Market Category      0\n",
              "Vehicle Size         0\n",
              "Vehicle Style        0\n",
              "highway MPG          0\n",
              "city mpg             0\n",
              "Popularity           0\n",
              "MSRP                 0\n",
              "dtype: int64"
            ]
          },
          "metadata": {},
          "execution_count": 28
        }
      ],
      "source": [
        "missingdf.isnull().sum()"
      ]
    },
    {
      "cell_type": "markdown",
      "metadata": {
        "id": "al9Xe7Mjdx3B"
      },
      "source": [
        "# As we can see all missing values are treated now, we will now treat inconsistent data"
      ]
    },
    {
      "cell_type": "code",
      "execution_count": 29,
      "metadata": {
        "colab": {
          "base_uri": "https://localhost:8080/"
        },
        "id": "ANpSzg9cSeKX",
        "outputId": "3ae9a969-5dcc-4e43-fe14-adca3bc7957b"
      },
      "outputs": [
        {
          "output_type": "stream",
          "name": "stdout",
          "text": [
            "Chevrolet        1123\n",
            "Ford              881\n",
            "Volkswagen        809\n",
            "Toyota            746\n",
            "Dodge             626\n",
            "Nissan            558\n",
            "GMC               515\n",
            "Honda             449\n",
            "Mazda             423\n",
            "Cadillac          397\n",
            "Mercedes-Benz     353\n",
            "Suzuki            351\n",
            "BMW               334\n",
            "Infiniti          330\n",
            "Audi              328\n",
            "Hyundai           303\n",
            "Volvo             281\n",
            "Subaru            256\n",
            "Acura             252\n",
            "Kia               231\n",
            "Mitsubishi        213\n",
            "Lexus             202\n",
            "Buick             196\n",
            "Chrysler          187\n",
            "Pontiac           186\n",
            "Lincoln           164\n",
            "Oldsmobile        150\n",
            "Land Rover        143\n",
            "Porsche           136\n",
            "Saab              111\n",
            "Aston Martin       93\n",
            "Plymouth           82\n",
            "Bentley            74\n",
            "Ferrari            69\n",
            "FIAT               62\n",
            "Scion              60\n",
            "Maserati           58\n",
            "Lamborghini        52\n",
            "Rolls-Royce        31\n",
            "Lotus              29\n",
            "Tesla              18\n",
            "HUMMER             17\n",
            "Maybach            16\n",
            "Alfa Romeo          5\n",
            "McLaren             5\n",
            "Spyker              3\n",
            "Genesis             3\n",
            "Bugatti             3\n",
            "Name: Make, dtype: int64\n"
          ]
        }
      ],
      "source": [
        "# Unique Values Count\n",
        "make_counts = missingdf['Make'].value_counts()\n",
        "\n",
        "print(make_counts)\n"
      ]
    },
    {
      "cell_type": "markdown",
      "source": [
        "We counted unique values manually and the make looks good, next up we go to Model"
      ],
      "metadata": {
        "id": "LSBjKfpOJN9T"
      }
    },
    {
      "cell_type": "code",
      "source": [
        "model_counts = missingdf['Model'].value_counts()\n",
        "\n",
        "print(model_counts)"
      ],
      "metadata": {
        "colab": {
          "base_uri": "https://localhost:8080/"
        },
        "id": "KMVHAVhHD3NI",
        "outputId": "bff0568f-0021-4dfe-e260-14f6da01747e"
      },
      "execution_count": 30,
      "outputs": [
        {
          "output_type": "stream",
          "name": "stdout",
          "text": [
            "Silverado 1500        156\n",
            "Tundra                140\n",
            "F-150                 126\n",
            "Sierra 1500            90\n",
            "Beetle Convertible     89\n",
            "                     ... \n",
            "MKZ Hybrid              1\n",
            "M4 GTS                  1\n",
            "LFA                     1\n",
            "Horizon                 1\n",
            "Zephyr                  1\n",
            "Name: Model, Length: 915, dtype: int64\n"
          ]
        }
      ]
    },
    {
      "cell_type": "markdown",
      "source": [
        "As you can see we cannot treat MODEL by manually counting unique values, however it is not useful to work on models since the category MAKE play a major role over MODEL and the MAKE model was treated above alredy. We will drop the MODEL colum ahead"
      ],
      "metadata": {
        "id": "gqosmKRgEaqt"
      }
    },
    {
      "cell_type": "markdown",
      "source": [
        "For years we can check using min max and describe function that our data is consistent"
      ],
      "metadata": {
        "id": "ouI4UzIDE27d"
      }
    },
    {
      "cell_type": "code",
      "source": [
        "# Print the minimum and maximum values in the Year column\n",
        "print('Minimum Year:', missingdf['Year'].min())\n",
        "print('Maximum Year:', missingdf['Year'].max())\n",
        "# Describe the Year column\n",
        "year_desc = missingdf['Year'].describe()\n",
        "\n",
        "print(year_desc)\n"
      ],
      "metadata": {
        "colab": {
          "base_uri": "https://localhost:8080/"
        },
        "id": "iXYl53DVEqs4",
        "outputId": "745a8117-1986-4d56-de20-2be5b473a5cc"
      },
      "execution_count": 31,
      "outputs": [
        {
          "output_type": "stream",
          "name": "stdout",
          "text": [
            "Minimum Year: 1990\n",
            "Maximum Year: 2017\n",
            "count    11914.000000\n",
            "mean      2010.384338\n",
            "std          7.579740\n",
            "min       1990.000000\n",
            "25%       2007.000000\n",
            "50%       2015.000000\n",
            "75%       2016.000000\n",
            "max       2017.000000\n",
            "Name: Year, dtype: float64\n"
          ]
        }
      ]
    },
    {
      "cell_type": "markdown",
      "source": [
        "Looks good, onto next"
      ],
      "metadata": {
        "id": "sIeVBByVJ7hh"
      }
    },
    {
      "cell_type": "code",
      "source": [
        "make_counts = missingdf['Engine Fuel Type'].value_counts()\n",
        "\n",
        "print(make_counts)\n"
      ],
      "metadata": {
        "colab": {
          "base_uri": "https://localhost:8080/"
        },
        "id": "LtZDon5TG9sy",
        "outputId": "df6ea96a-4045-4c56-db17-86d5989f9e19"
      },
      "execution_count": 32,
      "outputs": [
        {
          "output_type": "stream",
          "name": "stdout",
          "text": [
            "regular unleaded                                7175\n",
            "premium unleaded (required)                     2009\n",
            "premium unleaded (recommended)                  1523\n",
            "flex-fuel (unleaded/E85)                         899\n",
            "diesel                                           154\n",
            "electric                                          66\n",
            "flex-fuel (premium unleaded required/E85)         54\n",
            "flex-fuel (premium unleaded recommended/E85)      26\n",
            "flex-fuel (unleaded/natural gas)                   6\n",
            "natural gas                                        2\n",
            "Name: Engine Fuel Type, dtype: int64\n"
          ]
        }
      ]
    },
    {
      "cell_type": "markdown",
      "source": [
        "Looks Good Onto next"
      ],
      "metadata": {
        "id": "hgUazj9kJ-16"
      }
    },
    {
      "cell_type": "code",
      "source": [
        "make_counts = missingdf['Transmission Type'].value_counts()\n",
        "\n",
        "print(make_counts)\n"
      ],
      "metadata": {
        "colab": {
          "base_uri": "https://localhost:8080/"
        },
        "id": "vhTPLHa_KFov",
        "outputId": "6e87d799-6f12-44f6-bd81-6010536af4ea"
      },
      "execution_count": 33,
      "outputs": [
        {
          "output_type": "stream",
          "name": "stdout",
          "text": [
            "AUTOMATIC           8266\n",
            "MANUAL              2935\n",
            "AUTOMATED_MANUAL     626\n",
            "DIRECT_DRIVE          68\n",
            "UNKNOWN               19\n",
            "Name: Transmission Type, dtype: int64\n"
          ]
        }
      ]
    },
    {
      "cell_type": "markdown",
      "source": [
        "Now lets treat the UNKNOWN, since these are only 19 values we are dropping the UNKNOWN Values"
      ],
      "metadata": {
        "id": "ZSsxD__lKVVh"
      }
    },
    {
      "cell_type": "code",
      "source": [
        "# Drop rows with 'unknown' values\n",
        "missingdf = missingdf[missingdf['Transmission Type'] != 'UNKNOWN']\n"
      ],
      "metadata": {
        "id": "K5xr_HA1KYEx"
      },
      "execution_count": 34,
      "outputs": []
    },
    {
      "cell_type": "markdown",
      "source": [
        "Onto Next"
      ],
      "metadata": {
        "id": "4l4ebVTdKNoy"
      }
    },
    {
      "cell_type": "code",
      "source": [
        "make_counts = missingdf['Transmission Type'].value_counts()\n",
        "\n",
        "print(make_counts)"
      ],
      "metadata": {
        "colab": {
          "base_uri": "https://localhost:8080/"
        },
        "id": "oewAoq9ORzn-",
        "outputId": "3db05e07-f071-4a05-d6bc-9463493e8bb1"
      },
      "execution_count": 35,
      "outputs": [
        {
          "output_type": "stream",
          "name": "stdout",
          "text": [
            "AUTOMATIC           8266\n",
            "MANUAL              2935\n",
            "AUTOMATED_MANUAL     626\n",
            "DIRECT_DRIVE          68\n",
            "Name: Transmission Type, dtype: int64\n"
          ]
        }
      ]
    },
    {
      "cell_type": "markdown",
      "source": [
        "Looks Good onto next"
      ],
      "metadata": {
        "id": "xGA3lpGwR94o"
      }
    },
    {
      "cell_type": "code",
      "source": [
        "make_counts = missingdf['Driven_Wheels'].value_counts()\n",
        "\n",
        "print(make_counts)"
      ],
      "metadata": {
        "colab": {
          "base_uri": "https://localhost:8080/"
        },
        "id": "F2zKBH_nSA0l",
        "outputId": "2fc58337-7526-4715-9c91-b8f6f2c306f3"
      },
      "execution_count": 36,
      "outputs": [
        {
          "output_type": "stream",
          "name": "stdout",
          "text": [
            "front wheel drive    4783\n",
            "rear wheel drive     3358\n",
            "all wheel drive      2353\n",
            "four wheel drive     1401\n",
            "Name: Driven_Wheels, dtype: int64\n"
          ]
        }
      ]
    },
    {
      "cell_type": "markdown",
      "source": [
        "It is all good, now we move to doors for that we will do min max function"
      ],
      "metadata": {
        "id": "bjfzdG2SWGb3"
      }
    },
    {
      "cell_type": "code",
      "source": [
        "# Print the minimum and maximum values in the Year column\n",
        "print('Minimum Year:', missingdf['Number of Doors'].min())\n",
        "print('Maximum Year:', missingdf['Number of Doors'].max())"
      ],
      "metadata": {
        "colab": {
          "base_uri": "https://localhost:8080/"
        },
        "id": "bFedM5hcWLzF",
        "outputId": "79845257-0a56-4f2f-a167-6121118ff33b"
      },
      "execution_count": 37,
      "outputs": [
        {
          "output_type": "stream",
          "name": "stdout",
          "text": [
            "Minimum Year: 2.0\n",
            "Maximum Year: 4.0\n"
          ]
        }
      ]
    },
    {
      "cell_type": "markdown",
      "source": [
        "Looks Good Now lets have a look at market category(Done in the end)"
      ],
      "metadata": {
        "id": "MDAO279KWeEP"
      }
    },
    {
      "cell_type": "markdown",
      "source": [
        "Lets move to vehicle size"
      ],
      "metadata": {
        "id": "AMjxtQBcZtbO"
      }
    },
    {
      "cell_type": "code",
      "source": [
        "make_counts = missingdf['Vehicle Size'].value_counts()\n",
        "\n",
        "print(make_counts)"
      ],
      "metadata": {
        "colab": {
          "base_uri": "https://localhost:8080/"
        },
        "id": "R2cQSY-ZZvui",
        "outputId": "f175317d-a722-48f0-9805-fd3ee2edadcc"
      },
      "execution_count": 38,
      "outputs": [
        {
          "output_type": "stream",
          "name": "stdout",
          "text": [
            "Compact    4758\n",
            "Midsize    4368\n",
            "Large      2769\n",
            "Name: Vehicle Size, dtype: int64\n"
          ]
        }
      ]
    },
    {
      "cell_type": "markdown",
      "source": [
        "Looks Good. Onto Vehicle Style"
      ],
      "metadata": {
        "id": "nzo-uWVWZ3n_"
      }
    },
    {
      "cell_type": "code",
      "source": [
        "make_counts = missingdf['Vehicle Style'].value_counts()\n",
        "\n",
        "print(make_counts)"
      ],
      "metadata": {
        "colab": {
          "base_uri": "https://localhost:8080/"
        },
        "id": "bNxGLwLYZ4rz",
        "outputId": "f50698c9-a8df-4663-db36-43c5dfa4f264"
      },
      "execution_count": 39,
      "outputs": [
        {
          "output_type": "stream",
          "name": "stdout",
          "text": [
            "Sedan                  3047\n",
            "4dr SUV                2488\n",
            "Coupe                  1209\n",
            "Convertible             791\n",
            "4dr Hatchback           702\n",
            "Crew Cab Pickup         681\n",
            "Extended Cab Pickup     623\n",
            "Wagon                   592\n",
            "2dr Hatchback           504\n",
            "Passenger Minivan       417\n",
            "Regular Cab Pickup      384\n",
            "2dr SUV                 134\n",
            "Passenger Van           128\n",
            "Cargo Van                95\n",
            "Cargo Minivan            71\n",
            "Convertible SUV          29\n",
            "Name: Vehicle Style, dtype: int64\n"
          ]
        }
      ]
    },
    {
      "cell_type": "markdown",
      "source": [
        "Looks Good. Onto Next, we have highway MPG, an int value so we will start the detail view"
      ],
      "metadata": {
        "id": "NGSW3u5MaGFg"
      }
    },
    {
      "cell_type": "code",
      "source": [
        "print('Minimum:', missingdf['highway MPG'].min())\n",
        "print('Maximum:', missingdf['highway MPG'].max())\n",
        "year_desc = missingdf['highway MPG'].describe()\n",
        "\n",
        "print(year_desc)"
      ],
      "metadata": {
        "colab": {
          "base_uri": "https://localhost:8080/"
        },
        "id": "0uQrvusMaIUl",
        "outputId": "092b1244-7b1a-46be-a97b-6e6cadfc23b2"
      },
      "execution_count": 40,
      "outputs": [
        {
          "output_type": "stream",
          "name": "stdout",
          "text": [
            "Minimum: 12\n",
            "Maximum: 354\n",
            "count    11895.000000\n",
            "mean        26.647331\n",
            "std          8.865157\n",
            "min         12.000000\n",
            "25%         22.000000\n",
            "50%         26.000000\n",
            "75%         30.000000\n",
            "max        354.000000\n",
            "Name: highway MPG, dtype: float64\n"
          ]
        }
      ]
    },
    {
      "cell_type": "markdown",
      "source": [
        "lets make a box plot to visualize the distribution"
      ],
      "metadata": {
        "id": "KH8EokgjLCc7"
      }
    },
    {
      "cell_type": "code",
      "source": [
        "missingdf.boxplot(column='highway MPG')\n",
        "\n",
        "plt.xlabel('Highway MPG')\n",
        "plt.title('Box plot of Highway MPG')\n",
        "\n",
        "plt.show()"
      ],
      "metadata": {
        "colab": {
          "base_uri": "https://localhost:8080/",
          "height": 295
        },
        "id": "S2V-8uRYaYe1",
        "outputId": "b048932f-f2a2-45de-8b14-7fa2c2306af4"
      },
      "execution_count": 41,
      "outputs": [
        {
          "output_type": "display_data",
          "data": {
            "text/plain": [
              "<Figure size 432x288 with 1 Axes>"
            ],
            "image/png": "[encoded data removed]"
          },
          "metadata": {
            "needs_background": "light"
          }
        }
      ]
    },
    {
      "cell_type": "markdown",
      "source": [
        "As we can see 354 is a clear outlier and we have many anomalities so we will treat it, \n",
        "I have treated the anomalities by Z-test where we\n",
        "compare set of 2 means\n",
        "set a threshold ususally t< 3\n",
        "\n",
        "\n",
        "\n",
        "\n",
        "\n"
      ],
      "metadata": {
        "id": "zHk9T0x3bFYb"
      }
    },
    {
      "cell_type": "code",
      "source": [
        "# Calculate the z-scores for the highway MPG\n",
        "z_scores = np.abs((missingdf['highway MPG'] - missingdf['highway MPG'].mean()) / missingdf['highway MPG'].std())\n",
        "\n",
        "# Define a threshold for outlier detection\n",
        "threshold = 2\n",
        "\n",
        "# Remove the outliers \n",
        "missingdf = missingdf.drop(missingdf[z_scores > threshold].index)\n",
        "\n",
        "# box plot of the treated 'highway MPG' column\n",
        "missingdf.boxplot(column='highway MPG')\n",
        "\n",
        "plt.xlabel('Highway MPG')\n",
        "plt.title('Box plot of Highway MPG (without outliers)')\n",
        "\n",
        "plt.show()"
      ],
      "metadata": {
        "colab": {
          "base_uri": "https://localhost:8080/",
          "height": 295
        },
        "id": "yRqBP37lb1_n",
        "outputId": "7016cc3f-7a9f-4388-b059-8f37f5ab8e8f"
      },
      "execution_count": 42,
      "outputs": [
        {
          "output_type": "display_data",
          "data": {
            "text/plain": [
              "<Figure size 432x288 with 1 Axes>"
            ],
            "image/png": "[encoded data removed]"
          },
          "metadata": {
            "needs_background": "light"
          }
        }
      ]
    },
    {
      "cell_type": "code",
      "source": [
        "# Print the minimum and maximum values in the Year column\n",
        "print('Minimum:', missingdf['highway MPG'].min())\n",
        "print('Maximum:', missingdf['highway MPG'].max())\n",
        "\n",
        "year_desc = missingdf['highway MPG'].describe()\n",
        "print(year_desc)"
      ],
      "metadata": {
        "colab": {
          "base_uri": "https://localhost:8080/"
        },
        "id": "_Ruxee4Cco3X",
        "outputId": "2f65cc88-7d8a-4d6a-f8d6-ba58122fcb15"
      },
      "execution_count": 43,
      "outputs": [
        {
          "output_type": "stream",
          "name": "stdout",
          "text": [
            "Minimum: 12\n",
            "Maximum: 44\n",
            "count    11755.000000\n",
            "mean        26.081242\n",
            "std          6.088141\n",
            "min         12.000000\n",
            "25%         22.000000\n",
            "50%         25.000000\n",
            "75%         30.000000\n",
            "max         44.000000\n",
            "Name: highway MPG, dtype: float64\n"
          ]
        }
      ]
    },
    {
      "cell_type": "markdown",
      "source": [
        "Now it looks fine, onto next city MPG"
      ],
      "metadata": {
        "id": "Q5IQToJBcrqg"
      }
    },
    {
      "cell_type": "code",
      "source": [
        "# Print the minimum and maximum values in the Year column\n",
        "print('Minimum:', missingdf['city mpg'].min())\n",
        "print('Maximum:', missingdf['city mpg'].max())\n",
        "\n",
        "year_desc = missingdf['city mpg'].describe()\n",
        "\n",
        "print(year_desc)"
      ],
      "metadata": {
        "colab": {
          "base_uri": "https://localhost:8080/"
        },
        "id": "6ig_vaXrczyV",
        "outputId": "c80cc7f0-b9a6-4b63-fbd3-767436973cc4"
      },
      "execution_count": 44,
      "outputs": [
        {
          "output_type": "stream",
          "name": "stdout",
          "text": [
            "Minimum: 7\n",
            "Maximum: 49\n",
            "count    11755.000000\n",
            "mean        19.052318\n",
            "std          5.112806\n",
            "min          7.000000\n",
            "25%         16.000000\n",
            "50%         18.000000\n",
            "75%         22.000000\n",
            "max         49.000000\n",
            "Name: city mpg, dtype: float64\n"
          ]
        }
      ]
    },
    {
      "cell_type": "markdown",
      "source": [
        "This looks reasonable, onto next popularity"
      ],
      "metadata": {
        "id": "ZM2TI8T9c95I"
      }
    },
    {
      "cell_type": "code",
      "source": [
        "year_desc = missingdf['Popularity'].describe()\n",
        "\n",
        "print(year_desc)"
      ],
      "metadata": {
        "colab": {
          "base_uri": "https://localhost:8080/"
        },
        "id": "BHUBZBTgdBAe",
        "outputId": "2422f135-e8ce-4c14-d22c-9bbb9f7e406f"
      },
      "execution_count": 45,
      "outputs": [
        {
          "output_type": "stream",
          "name": "stdout",
          "text": [
            "count    11755.000000\n",
            "mean      1553.152956\n",
            "std       1447.669873\n",
            "min          2.000000\n",
            "25%        549.000000\n",
            "50%       1385.000000\n",
            "75%       2009.000000\n",
            "max       5657.000000\n",
            "Name: Popularity, dtype: float64\n"
          ]
        }
      ]
    },
    {
      "cell_type": "markdown",
      "source": [
        "We should normalize this column beacause these values are very hard to intrepret"
      ],
      "metadata": {
        "id": "eugcza9ddV3D"
      }
    },
    {
      "cell_type": "code",
      "source": [
        "def min_max_normalize(column):\n",
        "    return (column - column.min()) / (column.max() - column.min())\n",
        "\n",
        "# Apply normalization \n",
        "missingdf['popularity_normalized'] = min_max_normalize(missingdf['Popularity'])\n",
        "\n",
        "# Print the first five rows just to check the values\n",
        "print(missingdf['popularity_normalized'].head())"
      ],
      "metadata": {
        "colab": {
          "base_uri": "https://localhost:8080/"
        },
        "id": "mJy00cyqdiz7",
        "outputId": "03564691-4359-4b12-bbab-79c5c46cb5c3"
      },
      "execution_count": 46,
      "outputs": [
        {
          "output_type": "stream",
          "name": "stdout",
          "text": [
            "0    0.692131\n",
            "1    0.692131\n",
            "2    0.692131\n",
            "3    0.692131\n",
            "4    0.692131\n",
            "Name: popularity_normalized, dtype: float64\n"
          ]
        }
      ]
    },
    {
      "cell_type": "markdown",
      "source": [
        "Lets Visualize"
      ],
      "metadata": {
        "id": "ENJnp6vfeAws"
      }
    },
    {
      "cell_type": "code",
      "source": [
        "plt.scatter(missingdf['Make'], missingdf['popularity_normalized'])\n",
        "plt.xticks(rotation=90)\n",
        "plt.xlabel('Make')\n",
        "plt.ylabel('Normalized Popularity')\n",
        "plt.title('Normalized Popularity by Make')\n",
        "plt.show()"
      ],
      "metadata": {
        "colab": {
          "base_uri": "https://localhost:8080/",
          "height": 361
        },
        "id": "a0Wl0eoGeCRp",
        "outputId": "c144313e-1a00-4252-8f45-a880285a4ee9"
      },
      "execution_count": 47,
      "outputs": [
        {
          "output_type": "display_data",
          "data": {
            "text/plain": [
              "<Figure size 432x288 with 1 Axes>"
            ],
            "image/png": "[encoded data removed]"
          },
          "metadata": {
            "needs_background": "light"
          }
        }
      ]
    },
    {
      "cell_type": "markdown",
      "source": [
        "We can clearly see Suzuki is highly popular, so high that it feels like an anomalous point, but it is important for our dataset."
      ],
      "metadata": {
        "id": "KU0aqi0xeewy"
      }
    },
    {
      "cell_type": "markdown",
      "source": [
        "Finally lets see the MSRP"
      ],
      "metadata": {
        "id": "gPkVcV0-ehN9"
      }
    },
    {
      "cell_type": "code",
      "source": [
        "year_desc = missingdf['MSRP'].describe()\n",
        "\n",
        "print(year_desc)"
      ],
      "metadata": {
        "colab": {
          "base_uri": "https://localhost:8080/"
        },
        "id": "BuvzaLGPekp1",
        "outputId": "9a6cb272-2649-40e8-b735-97e79fd62e71"
      },
      "execution_count": 48,
      "outputs": [
        {
          "output_type": "stream",
          "name": "stdout",
          "text": [
            "count    1.175500e+04\n",
            "mean     4.069720e+04\n",
            "std      6.045251e+04\n",
            "min      2.000000e+03\n",
            "25%      2.099500e+04\n",
            "50%      2.999500e+04\n",
            "75%      4.232250e+04\n",
            "max      2.065902e+06\n",
            "Name: MSRP, dtype: float64\n"
          ]
        }
      ]
    },
    {
      "cell_type": "markdown",
      "source": [
        "We cannot say anything about MSRP because the variations seem reasonable, we will only compare the values by drawaing charts and compare"
      ],
      "metadata": {
        "id": "DU6VAUnzNW9L"
      }
    },
    {
      "cell_type": "code",
      "source": [
        "missingdf.boxplot(column='MSRP')\n",
        "\n",
        "plt.xlabel('MSRP')\n",
        "plt.title('Box PLOT')\n",
        "\n",
        "plt.show()"
      ],
      "metadata": {
        "colab": {
          "base_uri": "https://localhost:8080/",
          "height": 295
        },
        "id": "KCez6vChexGa",
        "outputId": "0e166b85-1e7e-4da2-b18f-aacc9e103488"
      },
      "execution_count": 49,
      "outputs": [
        {
          "output_type": "display_data",
          "data": {
            "text/plain": [
              "<Figure size 432x288 with 1 Axes>"
            ],
            "image/png": "[encoded data removed]"
          },
          "metadata": {
            "needs_background": "light"
          }
        }
      ]
    },
    {
      "cell_type": "markdown",
      "source": [
        "We cannot say anyhting about the distribution as the values can be widely distributed, we will have a look at prices relation with other values such as make, engine hp, popularity, size and style"
      ],
      "metadata": {
        "id": "z0zrEG8gfJiJ"
      }
    },
    {
      "cell_type": "code",
      "source": [
        "plt.scatter(missingdf['Engine HP'], missingdf['MSRP'])\n",
        "plt.xlabel('Engine Horsepower')\n",
        "plt.ylabel('MSRP')\n",
        "plt.title('Engine HP vs. MSRP')\n",
        "plt.show()"
      ],
      "metadata": {
        "colab": {
          "base_uri": "https://localhost:8080/",
          "height": 295
        },
        "id": "Go7gFLDLfWss",
        "outputId": "c375cbcb-befa-427f-e50f-eb53e3866665"
      },
      "execution_count": 50,
      "outputs": [
        {
          "output_type": "display_data",
          "data": {
            "text/plain": [
              "<Figure size 432x288 with 1 Axes>"
            ],
            "image/png": "[encoded data removed]"
          },
          "metadata": {
            "needs_background": "light"
          }
        }
      ]
    },
    {
      "cell_type": "markdown",
      "source": [
        "Quite reasonable as we know prices increase as HP increase"
      ],
      "metadata": {
        "id": "6PjUaNhkNv4X"
      }
    },
    {
      "cell_type": "code",
      "source": [
        "plt.scatter(missingdf['Year'], missingdf['MSRP'])\n",
        "plt.xlabel('Make Year')\n",
        "plt.ylabel('MSRP')\n",
        "plt.title('Make Year vs. MSRP')\n",
        "plt.show()"
      ],
      "metadata": {
        "colab": {
          "base_uri": "https://localhost:8080/",
          "height": 295
        },
        "id": "NISSKQa3fnqV",
        "outputId": "d57580d8-a04e-4185-ee5d-788a000d2457"
      },
      "execution_count": 51,
      "outputs": [
        {
          "output_type": "display_data",
          "data": {
            "text/plain": [
              "<Figure size 432x288 with 1 Axes>"
            ],
            "image/png": "[encoded data removed]"
          },
          "metadata": {
            "needs_background": "light"
          }
        }
      ]
    },
    {
      "cell_type": "markdown",
      "source": [
        "quite reasonable again as newer cars are more expensive"
      ],
      "metadata": {
        "id": "0Qf_sqlWN6Qw"
      }
    },
    {
      "cell_type": "code",
      "source": [
        "plt.scatter(missingdf['popularity_normalized'], missingdf['MSRP'])\n",
        "plt.ylabel('Popularity')\n",
        "plt.xlabel('MSRP')\n",
        "plt.title('Popularity vs. MSRP')\n",
        "plt.show()\n",
        "#check again"
      ],
      "metadata": {
        "colab": {
          "base_uri": "https://localhost:8080/",
          "height": 295
        },
        "id": "-Z2IYh8ygDWv",
        "outputId": "742d48bb-c7c0-4a29-ee24-e2a56116019e"
      },
      "execution_count": 52,
      "outputs": [
        {
          "output_type": "display_data",
          "data": {
            "text/plain": [
              "<Figure size 432x288 with 1 Axes>"
            ],
            "image/png": "[encoded data removed]"
          },
          "metadata": {
            "needs_background": "light"
          }
        }
      ]
    },
    {
      "cell_type": "markdown",
      "source": [
        "As you can see popular cars are less expensive since the most popular brand(Suzuki) is obviosuly very cheap. \n",
        "\n",
        "Hence all tests of MSRP clearly verify that our MSRP Values are accurate"
      ],
      "metadata": {
        "id": "6IYMLzS5Zw1u"
      }
    },
    {
      "cell_type": "code",
      "source": [
        "missingdf.columns"
      ],
      "metadata": {
        "colab": {
          "base_uri": "https://localhost:8080/"
        },
        "id": "t6ReT_WJgk5X",
        "outputId": "3e3496e2-26f8-4641-dcf6-a45619ad3380"
      },
      "execution_count": 53,
      "outputs": [
        {
          "output_type": "execute_result",
          "data": {
            "text/plain": [
              "Index(['Make', 'Model', 'Year', 'Engine Fuel Type', 'Engine HP',\n",
              "       'Transmission Type', 'Driven_Wheels', 'Number of Doors',\n",
              "       'Market Category', 'Vehicle Size', 'Vehicle Style', 'highway MPG',\n",
              "       'city mpg', 'Popularity', 'MSRP', 'popularity_normalized'],\n",
              "      dtype='object')"
            ]
          },
          "metadata": {},
          "execution_count": 53
        }
      ]
    },
    {
      "cell_type": "code",
      "source": [
        "from google.colab import files\n",
        "missingdf.to_csv('output2.csv', index=False)\n",
        "\n",
        "files.download('output2.csv')"
      ],
      "metadata": {
        "colab": {
          "base_uri": "https://localhost:8080/",
          "height": 17
        },
        "id": "06ZBOmkghVG2",
        "outputId": "6104c02b-9b2c-4550-854f-9063e42ff139"
      },
      "execution_count": 54,
      "outputs": [
        {
          "output_type": "display_data",
          "data": {
            "text/plain": [
              "<IPython.core.display.Javascript object>"
            ],
            "application/javascript": [
              "\n",
              "    async function download(id, filename, size) {\n",
              "      if (!google.colab.kernel.accessAllowed) {\n",
              "        return;\n",
              "      }\n",
              "      const div = document.createElement('div');\n",
              "      const label = document.createElement('label');\n",
              "      label.textContent = `Downloading \"${filename}\": `;\n",
              "      div.appendChild(label);\n",
              "      const progress = document.createElement('progress');\n",
              "      progress.max = size;\n",
              "      div.appendChild(progress);\n",
              "      document.body.appendChild(div);\n",
              "\n",
              "      const buffers = [];\n",
              "      let downloaded = 0;\n",
              "\n",
              "      const channel = await google.colab.kernel.comms.open(id);\n",
              "      // Send a message to notify the kernel that we're ready.\n",
              "      channel.send({})\n",
              "\n",
              "      for await (const message of channel.messages) {\n",
              "        // Send a message to notify the kernel that we're ready.\n",
              "        channel.send({})\n",
              "        if (message.buffers) {\n",
              "          for (const buffer of message.buffers) {\n",
              "            buffers.push(buffer);\n",
              "            downloaded += buffer.byteLength;\n",
              "            progress.value = downloaded;\n",
              "          }\n",
              "        }\n",
              "      }\n",
              "      const blob = new Blob(buffers, {type: 'application/binary'});\n",
              "      const a = document.createElement('a');\n",
              "      a.href = window.URL.createObjectURL(blob);\n",
              "      a.download = filename;\n",
              "      div.appendChild(a);\n",
              "      a.click();\n",
              "      div.remove();\n",
              "    }\n",
              "  "
            ]
          },
          "metadata": {}
        },
        {
          "output_type": "display_data",
          "data": {
            "text/plain": [
              "<IPython.core.display.Javascript object>"
            ],
            "application/javascript": [
              "download(\"download_a288ec92-cc15-4a9e-869d-020515bcbbf8\", \"output2.csv\", 1870576)"
            ]
          },
          "metadata": {}
        }
      ]
    },
    {
      "cell_type": "markdown",
      "source": [
        "we saved the cleaned file and we will now do some more statistics for fun."
      ],
      "metadata": {
        "id": "-_ESbRU2OU7t"
      }
    },
    {
      "cell_type": "code",
      "source": [
        "import seaborn as sns\n",
        "\n",
        "sns.boxplot(x='Make', y='MSRP', data=missingdf)\n",
        "plt.xticks(rotation=90)\n",
        "plt.xlabel('Make')\n",
        "plt.ylabel('MSRP')\n",
        "plt.title('MSRP by Make')\n",
        "plt.show()"
      ],
      "metadata": {
        "colab": {
          "base_uri": "https://localhost:8080/",
          "height": 361
        },
        "id": "ayBGSzS_h5cF",
        "outputId": "1cf2c394-a25a-4bf7-d672-d5e03ff78e46"
      },
      "execution_count": 55,
      "outputs": [
        {
          "output_type": "display_data",
          "data": {
            "text/plain": [
              "<Figure size 432x288 with 1 Axes>"
            ],
            "image/png": "[encoded data removed]"
          },
          "metadata": {
            "needs_background": "light"
          }
        }
      ]
    },
    {
      "cell_type": "markdown",
      "source": [
        "Make and Model will help us identify MSRP based on cars as we have an idea of expensive brands vs cheap ones"
      ],
      "metadata": {
        "id": "swJOkbjAOfYt"
      }
    },
    {
      "cell_type": "markdown",
      "source": [
        "Lets find out the model and make of the most expensive car"
      ],
      "metadata": {
        "id": "GSHIajo9uEDx"
      }
    },
    {
      "cell_type": "code",
      "source": [
        "# Filter the dataframe to show only rows where MSRP is 337000\n",
        "model_df = missingdf[missingdf['MSRP'] == 337000]\n",
        "make_df = missingdf[missingdf['MSRP'] == 337000]\n",
        "\n",
        "# Print the corresponding value(s) in the Model column\n",
        "print(model_df['Make'])\n",
        "print(model_df['Model'])"
      ],
      "metadata": {
        "colab": {
          "base_uri": "https://localhost:8080/"
        },
        "id": "0tUwyRAUjnX0",
        "outputId": "00ee5a02-533e-4d7c-89c1-b1d0951bdcfe"
      },
      "execution_count": 56,
      "outputs": [
        {
          "output_type": "stream",
          "name": "stdout",
          "text": [
            "2858    Bentley\n",
            "Name: Make, dtype: object\n",
            "2858    Continental GT3-R\n",
            "Name: Model, dtype: object\n"
          ]
        }
      ]
    },
    {
      "cell_type": "markdown",
      "source": [
        "Yes, it is a very expensive car indeed, now lets does the make Bentley's average value and does it justify this price"
      ],
      "metadata": {
        "id": "Hp6YaBhKlfMB"
      }
    },
    {
      "cell_type": "code",
      "source": [
        "bentley_df = missingdf[missingdf['Make'] == 'Bentley']\n",
        "\n",
        "bentley_mean = bentley_df['MSRP'].mean()\n",
        "\n",
        "print(\"Mean MSRP value for Bentley:\", bentley_mean)\n",
        "\n"
      ],
      "metadata": {
        "colab": {
          "base_uri": "https://localhost:8080/"
        },
        "id": "xXw6_SUgk81t",
        "outputId": "386ed346-6f1c-4be3-e8aa-57ceba1b8cfd"
      },
      "execution_count": 57,
      "outputs": [
        {
          "output_type": "stream",
          "name": "stdout",
          "text": [
            "Mean MSRP value for Bentley: 247169.32432432432\n"
          ]
        }
      ]
    },
    {
      "cell_type": "markdown",
      "source": [
        "Now lets find the model and make of the cheapest car"
      ],
      "metadata": {
        "id": "TtR1NMuFuISZ"
      }
    },
    {
      "cell_type": "code",
      "source": [
        "# Filter the dataframe to show only rows where MSRP is 2000\n",
        "modelmin_df = missingdf[missingdf['MSRP'] == 2000]\n",
        "makemin_df = missingdf[missingdf['MSRP'] == 2000]\n",
        "\n",
        "# Print the corresponding value(s) in the Model column\n",
        "print(modelmin_df['Make'])\n",
        "print(modelmin_df['Model'])"
      ],
      "metadata": {
        "colab": {
          "base_uri": "https://localhost:8080/"
        },
        "id": "E18SYTEitxwF",
        "outputId": "ed20aea6-1416-4fae-c06f-e98361b23f52"
      },
      "execution_count": 58,
      "outputs": [
        {
          "output_type": "stream",
          "name": "stdout",
          "text": [
            "17         Audi\n",
            "18         Audi\n",
            "19         Audi\n",
            "20         Audi\n",
            "21         Audi\n",
            "          ...  \n",
            "11481    Suzuki\n",
            "11482    Suzuki\n",
            "11792    Subaru\n",
            "11793    Subaru\n",
            "11794    Subaru\n",
            "Name: Make, Length: 1024, dtype: object\n",
            "17        100\n",
            "18        100\n",
            "19        100\n",
            "20        100\n",
            "21        100\n",
            "         ... \n",
            "11481    X-90\n",
            "11482    X-90\n",
            "11792      XT\n",
            "11793      XT\n",
            "11794      XT\n",
            "Name: Model, Length: 1024, dtype: object\n"
          ]
        }
      ]
    },
    {
      "cell_type": "markdown",
      "source": [
        "# Lets do some Bi-variable testing"
      ],
      "metadata": {
        "id": "KsUHqzUGO3ZQ"
      }
    },
    {
      "cell_type": "markdown",
      "source": [
        "Corellation Matrix"
      ],
      "metadata": {
        "id": "35Gdv0-deXZC"
      }
    },
    {
      "cell_type": "code",
      "source": [
        "# create a correlation matrix\n",
        "corr_matrix = missingdf.corr()\n",
        "\n",
        "# plot the correlation matrix as a heatmap\n",
        "plt.imshow(corr_matrix, cmap='coolwarm', interpolation='none')\n",
        "plt.colorbar()\n",
        "plt.xticks(range(len(corr_matrix)), corr_matrix.columns, rotation=90)\n",
        "plt.yticks(range(len(corr_matrix)), corr_matrix.columns)\n",
        "plt.show()\n"
      ],
      "metadata": {
        "colab": {
          "base_uri": "https://localhost:8080/",
          "height": 643
        },
        "id": "feblUGDRO_XY",
        "outputId": "638efc1a-cd39-49f7-b33f-4b3c67c9391d"
      },
      "execution_count": 59,
      "outputs": [
        {
          "output_type": "display_data",
          "data": {
            "text/plain": [
              "<Figure size 432x288 with 2 Axes>"
            ],
            "image/png": "[encoded data removed]"
          },
          "metadata": {
            "needs_background": "light"
          }
        },
        {
          "output_type": "display_data",
          "data": {
            "text/plain": [
              "<Figure size 432x288 with 1 Axes>"
            ],
            "image/png": "[encoded data removed]"
          },
          "metadata": {
            "needs_background": "light"
          }
        }
      ]
    },
    {
      "cell_type": "markdown",
      "source": [
        "ANOVA Test which specifies that we want to test the effect of the Make variable on the MSRP variable, you can change it accordingly."
      ],
      "metadata": {
        "id": "nTLroQSCeaZg"
      }
    },
    {
      "cell_type": "code",
      "source": [
        "import statsmodels.api as sm\n",
        "from statsmodels.formula.api import ols\n",
        "\n",
        "# create the ANOVA model formula\n",
        "formula = 'MSRP ~ C(Make)'\n",
        "\n",
        "# create the ANOVA model\n",
        "model = ols(formula, data=missingdf).fit()\n",
        "\n",
        "# perform ANOVA testing\n",
        "anova_table = sm.stats.anova_lm(model, typ=2)\n",
        "\n",
        "# print the ANOVA table\n",
        "print(anova_table)"
      ],
      "metadata": {
        "colab": {
          "base_uri": "https://localhost:8080/"
        },
        "id": "uh7u-Th0cneZ",
        "outputId": "e9171856-0c7c-4c05-b4e2-b42bac758b9a"
      },
      "execution_count": 60,
      "outputs": [
        {
          "output_type": "stream",
          "name": "stdout",
          "text": [
            "                sum_sq       df           F  PR(>F)\n",
            "C(Make)   3.245145e+13     46.0  786.357598     0.0\n",
            "Residual  1.050362e+13  11708.0         NaN     NaN\n"
          ]
        }
      ]
    },
    {
      "cell_type": "markdown",
      "source": [
        "Chi Square test which returns the chi-squared statistic, the p-value, the degrees of freedom, and the expected frequencies, you can change accordingly"
      ],
      "metadata": {
        "id": "GsYWJtagenfg"
      }
    },
    {
      "cell_type": "code",
      "source": [
        "import scipy.stats as stats\n",
        "\n",
        "# create a contingency table\n",
        "contingency_table = pd.crosstab(missingdf['Make'], missingdf['Vehicle Style'])\n",
        "\n",
        "# perform chi-squared test\n",
        "chi2_stat, p_val, dof, expected = stats.chi2_contingency(contingency_table)\n",
        "\n",
        "# print the test results\n",
        "print('Chi-squared statistic:', chi2_stat)\n",
        "print('P-value:', p_val)\n",
        "print('Degrees of freedom:', dof)\n",
        "print('Expected frequencies:', expected)"
      ],
      "metadata": {
        "colab": {
          "base_uri": "https://localhost:8080/"
        },
        "id": "muY1GyBYd6J0",
        "outputId": "c86eea3f-218b-4ab5-ce6f-56a5dd1b4bab"
      },
      "execution_count": 64,
      "outputs": [
        {
          "output_type": "stream",
          "name": "stdout",
          "text": [
            "Chi-squared statistic: 12356.883666566362\n",
            "P-value: 0.0\n",
            "Degrees of freedom: 690\n",
            "Expected frequencies: [[1.07402807e+01 2.87264994e+00 1.34628669e+01 5.32726499e+01\n",
            "  1.52207571e+00 2.03658018e+00 1.69572097e+01 6.21692897e-01\n",
            "  2.59181625e+01 1.45990642e+01 1.33556784e+01 8.93951510e+00\n",
            "  2.74402382e+00 8.23207146e+00 6.41415568e+01 1.25839217e+01]\n",
            " [2.13100808e-01 5.69970225e-02 2.67120374e-01 1.05699702e+00\n",
            "  3.01999149e-02 4.04083369e-02 3.36452573e-01 1.23351765e-02\n",
            "  5.14249256e-01 2.89663973e-01 2.64993620e-01 1.77371331e-01\n",
            "  5.44449171e-02 1.63334751e-01 1.27264994e+00 2.49680987e-01]\n",
            " [3.96367503e+00 1.06014462e+00 4.96843896e+00 1.96601446e+01\n",
            "  5.61718418e-01 7.51595066e-01 6.25801786e+00 2.29434283e-01\n",
            "  9.56503615e+00 5.38774989e+00 4.92888133e+00 3.29910676e+00\n",
            "  1.01267546e+00 3.03802637e+00 2.36712888e+01 4.64406635e+00]\n",
            " [1.39367929e+01 3.72760527e+00 1.74696725e+01 6.91276053e+01\n",
            "  1.97507444e+00 2.64270523e+00 2.20039983e+01 8.06720544e-01\n",
            "  3.36319013e+01 1.89440238e+01 1.73305827e+01 1.16000851e+01\n",
            "  3.56069758e+00 1.06820927e+01 8.32313058e+01 1.63291365e+01]\n",
            " [1.40220332e+01 3.75040408e+00 1.75765206e+01 6.95504041e+01\n",
            "  1.98715440e+00 2.65886857e+00 2.21385793e+01 8.11654615e-01\n",
            "  3.38376010e+01 1.90598894e+01 1.74365802e+01 1.16710336e+01\n",
            "  3.58247554e+00 1.07474266e+01 8.37403658e+01 1.64290089e+01]\n",
            " [3.15389196e+00 8.43555934e-01 3.95338154e+00 1.56435559e+01\n",
            "  4.46958741e-01 5.98043386e-01 4.97949809e+00 1.82560613e-01\n",
            "  7.61088898e+00 4.28702680e+00 3.92190557e+00 2.62509570e+00\n",
            "  8.05784772e-01 2.41735432e+00 1.88352191e+01 3.69527860e+00]\n",
            " [1.27860485e-01 3.41982135e-02 1.60272225e-01 6.34198214e-01\n",
            "  1.81199490e-02 2.42450021e-02 2.01871544e-01 7.40110591e-03\n",
            "  3.08549553e-01 1.73798384e-01 1.58996172e-01 1.06422799e-01\n",
            "  3.26669502e-02 9.80008507e-02 7.63589962e-01 1.49808592e-01]\n",
            " [8.35355168e+00 2.23428328e+00 1.04711187e+01 4.14342833e+01\n",
            "  1.18383667e+00 1.58400681e+00 1.31889409e+01 4.83538920e-01\n",
            "  2.01585708e+01 1.13548277e+01 1.03877499e+01 6.95295619e+00\n",
            "  2.13424075e+00 6.40272225e+00 4.98878775e+01 9.78749468e+00]\n",
            " [1.69202042e+01 4.52556359e+00 2.12093577e+01 8.39255636e+01\n",
            "  2.39787325e+00 3.20842195e+00 2.67143343e+01 9.79413016e-01\n",
            "  4.08313909e+01 2.29993194e+01 2.10404934e+01 1.40832837e+01\n",
            "  4.32292641e+00 1.29687792e+01 1.01048405e+02 1.98246704e+01]\n",
            " [4.74362399e+01 1.26875372e+01 5.94609953e+01 2.35287537e+02\n",
            "  6.72250106e+00 8.99489579e+00 7.48943428e+01 2.74581029e+00\n",
            "  1.14471884e+02 6.44792003e+01 5.89875798e+01 3.94828584e+01\n",
            "  1.21194385e+01 3.63583156e+01 2.83291876e+02 5.55789877e+01]\n",
            " [7.88472990e+00 2.10888983e+00 9.88345385e+00 3.91088898e+01\n",
            "  1.11739685e+00 1.49510846e+00 1.24487452e+01 4.56401531e-01\n",
            "  1.90272225e+01 1.07175670e+01 9.80476393e+00 6.56273926e+00\n",
            "  2.01446193e+00 6.04338579e+00 4.70880476e+01 9.23819651e+00]\n",
            " [2.63392599e+01 7.04483199e+00 3.30160783e+01 1.30644832e+02\n",
            "  3.73270949e+00 4.99447044e+00 4.15855381e+01 1.52462782e+00\n",
            "  6.35612080e+01 3.58024670e+01 3.27532114e+01 2.19230966e+01\n",
            "  6.72939175e+00 2.01881752e+01 1.57299532e+02 3.08605700e+01]\n",
            " [2.51458954e+00 6.72564866e-01 3.15202042e+00 1.24725649e+01\n",
            "  3.56358996e-01 4.76818375e-01 3.97014037e+00 1.45555083e-01\n",
            "  6.06814122e+00 3.41803488e+00 3.12692471e+00 2.09298171e+00\n",
            "  6.42450021e-01 1.92735006e+00 1.50172692e+01 2.94623564e+00]\n",
            " [2.94079115e+00 7.86558911e-01 3.68626117e+00 1.45865589e+01\n",
            "  4.16758826e-01 5.57635049e-01 4.64304551e+00 1.70225436e-01\n",
            "  7.09663973e+00 3.99736282e+00 3.65691195e+00 2.44772437e+00\n",
            "  7.51339855e-01 2.25401957e+00 1.75625691e+01 3.44559762e+00]\n",
            " [3.74205019e+01 1.00086772e+01 4.69063377e+01 1.85608677e+02\n",
            "  5.30310506e+00 7.09570396e+00 5.90810719e+01 2.16605700e+00\n",
            "  9.03021693e+01 5.08649936e+01 4.65328796e+01 3.11464058e+01\n",
            "  9.56052744e+00 2.86815823e+01 2.23477329e+02 4.38439813e+01]\n",
            " [2.17789026e+01 5.82509570e+00 2.72997023e+01 1.08025096e+02\n",
            "  3.08643131e+00 4.12973203e+00 3.43854530e+01 1.26065504e+00\n",
            "  5.25562739e+01 2.96036580e+01 2.70823479e+01 1.81273501e+01\n",
            "  5.56427052e+00 1.66928116e+01 1.30064823e+02 2.55173969e+01]\n",
            " [1.27860485e-01 3.41982135e-02 1.60272225e-01 6.34198214e-01\n",
            "  1.81199490e-02 2.42450021e-02 2.01871544e-01 7.40110591e-03\n",
            "  3.08549553e-01 1.73798384e-01 1.58996172e-01 1.06422799e-01\n",
            "  3.26669502e-02 9.80008507e-02 7.63589962e-01 1.49808592e-01]\n",
            " [7.24542748e-01 1.93789877e-01 9.08209273e-01 3.59378988e+00\n",
            "  1.02679711e-01 1.37388345e-01 1.14393875e+00 4.19396002e-02\n",
            "  1.74844747e+00 9.84857507e-01 9.00978307e-01 6.03062527e-01\n",
            "  1.85112718e-01 5.55338154e-01 4.32700978e+00 8.48915355e-01]\n",
            " [1.84545300e+01 4.93594215e+00 2.31326244e+01 9.15359422e+01\n",
            "  2.61531263e+00 3.49936197e+00 2.91367929e+01 1.06822629e+00\n",
            "  4.45339855e+01 2.50849000e+01 2.29484475e+01 1.53603573e+01\n",
            "  4.71492982e+00 1.41447895e+01 1.10211484e+02 2.16223735e+01]\n",
            " [1.28712888e+01 3.44262016e+00 1.61340706e+01 6.38426202e+01\n",
            "  1.82407486e+00 2.44066355e+00 2.03217354e+01 7.45044662e-01\n",
            "  3.10606550e+01 1.74957040e+01 1.60056146e+01 1.07132284e+01\n",
            "  3.28847299e+00 9.86541897e+00 7.68680561e+01 1.50807316e+01]\n",
            " [1.40646533e+01 3.76180349e+00 1.76299447e+01 6.97618035e+01\n",
            "  1.99319439e+00 2.66695023e+00 2.22058698e+01 8.14121650e-01\n",
            "  3.39404509e+01 1.91178222e+01 1.74895789e+01 1.17065079e+01\n",
            "  3.59336453e+00 1.07800936e+01 8.39948958e+01 1.64789451e+01]\n",
            " [9.54691621e+00 2.55346661e+00 1.19669928e+01 4.73534666e+01\n",
            "  1.35295619e+00 1.81029349e+00 1.50730753e+01 5.52615908e-01\n",
            "  2.30383667e+01 1.29769460e+01 1.18717142e+01 7.94623564e+00\n",
            "  2.43913228e+00 7.31739685e+00 5.70147171e+01 1.11857082e+01]\n",
            " [2.21624840e+00 5.92769034e-01 2.77805189e+00 1.09927690e+01\n",
            "  3.14079115e-01 4.20246704e-01 3.49910676e+00 1.28285836e-01\n",
            "  5.34819226e+00 3.01250532e+00 2.75593365e+00 1.84466185e+00\n",
            "  5.66227137e-01 1.69868141e+00 1.32355593e+01 2.59668226e+00]\n",
            " [6.09468311e+00 1.63011484e+00 7.63964271e+00 3.02301148e+01\n",
            "  8.63717567e-01 1.15567843e+00 9.62254360e+00 3.52786048e-01\n",
            "  1.47075287e+01 8.28438962e+00 7.57881752e+00 5.07282008e+00\n",
            "  1.55712463e+00 4.67137388e+00 3.63977882e+01 7.14087622e+00]\n",
            " [8.60927265e+00 2.30267971e+00 1.07916631e+01 4.27026797e+01\n",
            "  1.22007656e+00 1.63249681e+00 1.35926840e+01 4.98341131e-01\n",
            "  2.07756699e+01 1.17024245e+01 1.07057422e+01 7.16580179e+00\n",
            "  2.19957465e+00 6.59872395e+00 5.14150574e+01 1.00871119e+01]\n",
            " [6.98970651e+00 1.86950234e+00 8.76154828e+00 3.46695023e+01\n",
            "  9.90557210e-01 1.32539345e+00 1.10356444e+01 4.04593790e-01\n",
            "  1.68673756e+01 9.50097831e+00 8.69179073e+00 5.81777967e+00\n",
            "  1.78579328e+00 5.35737984e+00 4.17429179e+01 8.18953637e+00]\n",
            " [1.23598469e+00 3.30582731e-01 1.54929817e+00 6.13058273e+00\n",
            "  1.75159507e-01 2.34368354e-01 1.95142493e+00 7.15440238e-02\n",
            "  2.98264568e+00 1.68005104e+00 1.53696299e+00 1.02875372e+00\n",
            "  3.15780519e-01 9.47341557e-01 7.38136963e+00 1.44814972e+00]\n",
            " [2.47196937e+00 6.61165462e-01 3.09859634e+00 1.22611655e+01\n",
            "  3.50319013e-01 4.68736708e-01 3.90284985e+00 1.43088048e-01\n",
            "  5.96529137e+00 3.36010208e+00 3.07392599e+00 2.05750744e+00\n",
            "  6.31561038e-01 1.89468311e+00 1.47627393e+01 2.89629945e+00]\n",
            " [6.81922586e-01 1.82390472e-01 8.54785198e-01 3.38239047e+00\n",
            "  9.66397278e-02 1.29306678e-01 1.07664823e+00 3.94725649e-02\n",
            "  1.64559762e+00 9.26924713e-01 8.47979583e-01 5.67588260e-01\n",
            "  1.74223735e-01 5.22671204e-01 4.07247980e+00 7.98979158e-01]\n",
            " [1.80283284e+01 4.82194811e+00 2.25983837e+01 8.94219481e+01\n",
            "  2.55491280e+00 3.41854530e+00 2.84638877e+01 1.04355593e+00\n",
            "  4.35054870e+01 2.45055721e+01 2.24184602e+01 1.50056146e+01\n",
            "  4.60603998e+00 1.38181199e+01 1.07666185e+02 2.11230115e+01]\n",
            " [2.13100808e-01 5.69970225e-02 2.67120374e-01 1.05699702e+00\n",
            "  3.01999149e-02 4.04083369e-02 3.36452573e-01 1.23351765e-02\n",
            "  5.14249256e-01 2.89663973e-01 2.64993620e-01 1.77371331e-01\n",
            "  5.44449171e-02 1.63334751e-01 1.27264994e+00 2.49680987e-01]\n",
            " [1.49170566e+01 3.98979158e+00 1.86984262e+01 7.39897916e+01\n",
            "  2.11399405e+00 2.82858358e+00 2.35516801e+01 8.63462356e-01\n",
            "  3.59974479e+01 2.02764781e+01 1.85495534e+01 1.24159932e+01\n",
            "  3.81114419e+00 1.14334326e+01 8.90854955e+01 1.74776691e+01]\n",
            " [8.95023394e+00 2.39387495e+00 1.12190557e+01 4.43938749e+01\n",
            "  1.26839643e+00 1.69715015e+00 1.41310081e+01 5.18077414e-01\n",
            "  2.15984687e+01 1.21658869e+01 1.11297320e+01 7.44959592e+00\n",
            "  2.28668652e+00 6.86005955e+00 5.34512973e+01 1.04866014e+01]\n",
            " [2.33558486e+01 6.24687367e+00 2.92763930e+01 1.15846874e+02\n",
            "  3.30991068e+00 4.42875372e+00 3.68752020e+01 1.35193535e+00\n",
            "  5.63617184e+01 3.17471714e+01 2.90433007e+01 1.94398979e+01\n",
            "  5.96716291e+00 1.79014887e+01 1.39482433e+02 2.73650362e+01]\n",
            " [6.30778392e+00 1.68711187e+00 7.90676308e+00 3.12871119e+01\n",
            "  8.93917482e-01 1.19608677e+00 9.95899617e+00 3.65121225e-01\n",
            "  1.52217780e+01 8.57405359e+00 7.84381114e+00 5.25019141e+00\n",
            "  1.61156954e+00 4.83470863e+00 3.76704381e+01 7.39055721e+00]\n",
            " [3.49485325e+00 9.34751170e-01 4.38077414e+00 1.73347512e+01\n",
            "  4.95278605e-01 6.62696725e-01 5.51782220e+00 2.02296895e-01\n",
            "  8.43368779e+00 4.75048915e+00 4.34589536e+00 2.90888983e+00\n",
            "  8.92896640e-01 2.67868992e+00 2.08714590e+01 4.09476818e+00]\n",
            " [7.79948958e+00 2.08609103e+00 9.77660570e+00 3.86860910e+01\n",
            "  1.10531689e+00 1.47894513e+00 1.23141642e+01 4.51467461e-01\n",
            "  1.88215228e+01 1.06017014e+01 9.69876648e+00 6.49179073e+00\n",
            "  1.99268396e+00 5.97805189e+00 4.65789877e+01 9.13832412e+00]\n",
            " [5.79634198e+00 1.55031901e+00 7.26567418e+00 2.87503190e+01\n",
            "  8.21437686e-01 1.09910676e+00 9.15151000e+00 3.35516801e-01\n",
            "  1.39875798e+01 7.87886006e+00 7.20782646e+00 4.82450021e+00\n",
            "  1.48090174e+00 4.44270523e+00 3.46160783e+01 6.79132284e+00]\n",
            " [1.32122501e+00 3.53381540e-01 1.65614632e+00 6.55338154e+00\n",
            "  1.87239473e-01 2.50531689e-01 2.08600595e+00 7.64780944e-02\n",
            "  3.18834538e+00 1.79591663e+00 1.64296044e+00 1.09970225e+00\n",
            "  3.37558486e-01 1.01267546e+00 7.89042960e+00 1.54802212e+00]\n",
            " [4.73083794e+00 1.26533390e+00 5.93007231e+00 2.34653339e+01\n",
            "  6.70438111e-01 8.97065079e-01 7.46924713e+00 2.73840919e-01\n",
            "  1.14163335e+01 6.43054020e+00 5.88285836e+00 3.93764356e+00\n",
            "  1.20867716e+00 3.62603148e+00 2.82528286e+01 5.54291791e+00]\n",
            " [2.55720970e+00 6.83964271e-01 3.20544449e+00 1.26839643e+01\n",
            "  3.62398979e-01 4.84900043e-01 4.03743088e+00 1.48022118e-01\n",
            "  6.17099107e+00 3.47596767e+00 3.17992344e+00 2.12845598e+00\n",
            "  6.53339005e-01 1.96001701e+00 1.52717992e+01 2.99617184e+00]\n",
            " [1.27860485e-01 3.41982135e-02 1.60272225e-01 6.34198214e-01\n",
            "  1.81199490e-02 2.42450021e-02 2.01871544e-01 7.40110591e-03\n",
            "  3.08549553e-01 1.73798384e-01 1.58996172e-01 1.06422799e-01\n",
            "  3.26669502e-02 9.80008507e-02 7.63589962e-01 1.49808592e-01]\n",
            " [1.09107614e+01 2.91824755e+00 1.36765632e+01 5.41182476e+01\n",
            "  1.54623564e+00 2.06890685e+00 1.72263718e+01 6.31561038e-01\n",
            "  2.63295619e+01 1.48307954e+01 1.35676733e+01 9.08141217e+00\n",
            "  2.78757975e+00 8.36273926e+00 6.51596767e+01 1.27836665e+01]\n",
            " [1.49596767e+01 4.00119098e+00 1.87518503e+01 7.42011910e+01\n",
            "  2.12003403e+00 2.83666525e+00 2.36189707e+01 8.65929392e-01\n",
            "  3.61002977e+01 2.03344109e+01 1.86025521e+01 1.24514675e+01\n",
            "  3.82203318e+00 1.14660995e+01 8.93400255e+01 1.75276053e+01]\n",
            " [3.02176946e+01 8.08217780e+00 3.78776691e+01 1.49882178e+02\n",
            "  4.28234794e+00 5.72990217e+00 4.77089749e+01 1.74912803e+00\n",
            "  7.29205444e+01 4.10743513e+01 3.75760953e+01 2.51512548e+01\n",
            "  7.72028924e+00 2.31608677e+01 1.80461761e+02 3.54047639e+01]\n",
            " [3.34994470e+01 8.95993194e+00 4.19913228e+01 1.66159932e+02\n",
            "  4.74742663e+00 6.35219056e+00 5.28903445e+01 1.93908975e+00\n",
            "  8.08399830e+01 4.55351765e+01 4.16569970e+01 2.78827733e+01\n",
            "  8.55874096e+00 2.56762229e+01 2.00060570e+02 3.92498511e+01]\n",
            " [1.19762654e+01 3.20323267e+00 1.50121650e+01 5.94032327e+01\n",
            "  1.69723522e+00 2.27094853e+00 1.89086346e+01 6.93236920e-01\n",
            "  2.89008082e+01 1.62791153e+01 1.48926414e+01 9.96826882e+00\n",
            "  3.05980434e+00 9.17941302e+00 7.15229264e+01 1.40320715e+01]]\n"
          ]
        }
      ]
    },
    {
      "cell_type": "code",
      "source": [
        "import statsmodels.api as sm\n",
        "\n",
        "# select the predictor and response variables\n",
        "X = missingdf[['Engine HP', 'highway MPG', 'city mpg', 'Popularity']]\n",
        "y = missingdf['MSRP']\n",
        "\n",
        "# add an intercept term to the predictor variables\n",
        "X = sm.add_constant(X)\n",
        "\n",
        "# fit the linear regression model\n",
        "model = sm.OLS(y, X).fit()\n",
        "\n",
        "# print the model summary\n",
        "print(model.summary())\n"
      ],
      "metadata": {
        "colab": {
          "base_uri": "https://localhost:8080/"
        },
        "id": "zSoOyH3afiiX",
        "outputId": "fa05c936-129c-4e65-eff2-dd9dfc34d2fa"
      },
      "execution_count": 70,
      "outputs": [
        {
          "output_type": "stream",
          "name": "stdout",
          "text": [
            "                            OLS Regression Results                            \n",
            "==============================================================================\n",
            "Dep. Variable:                   MSRP   R-squared:                       0.125\n",
            "Model:                            OLS   Adj. R-squared:                  0.125\n",
            "Method:                 Least Squares   F-statistic:                     419.1\n",
            "Date:                Fri, 17 Mar 2023   Prob (F-statistic):               0.00\n",
            "Time:                        07:37:58   Log-Likelihood:            -1.4531e+05\n",
            "No. Observations:               11755   AIC:                         2.906e+05\n",
            "Df Residuals:                   11750   BIC:                         2.907e+05\n",
            "Df Model:                           4                                         \n",
            "Covariance Type:            nonrobust                                         \n",
            "===============================================================================\n",
            "                  coef    std err          t      P>|t|      [0.025      0.975]\n",
            "-------------------------------------------------------------------------------\n",
            "const        2.198e+04   4151.223      5.294      0.000    1.38e+04    3.01e+04\n",
            "Engine HP     271.9194     11.564     23.513      0.000     249.251     294.588\n",
            "highway MPG   821.4782    226.491      3.627      0.000     377.518    1265.439\n",
            "city mpg    -3524.1285    273.183    -12.900      0.000   -4059.612   -2988.645\n",
            "Popularity     -2.2543      0.361     -6.243      0.000      -2.962      -1.546\n",
            "==============================================================================\n",
            "Omnibus:                    20724.655   Durbin-Watson:                   0.604\n",
            "Prob(Omnibus):                  0.000   Jarque-Bera (JB):         45540062.227\n",
            "Skew:                          12.310   Prob(JB):                         0.00\n",
            "Kurtosis:                     306.928   Cond. No.                     1.70e+04\n",
            "==============================================================================\n",
            "\n",
            "Notes:\n",
            "[1] Standard Errors assume that the covariance matrix of the errors is correctly specified.\n",
            "[2] The condition number is large, 1.7e+04. This might indicate that there are\n",
            "strong multicollinearity or other numerical problems.\n"
          ]
        }
      ]
    },
    {
      "cell_type": "code",
      "source": [
        "from sklearn.linear_model import LinearRegression\n",
        "\n",
        "# select the predictor and response variables\n",
        "X = missingdf[['Engine HP', 'Popularity']] #'highway MPG', 'city mpg']]\n",
        "y = missingdf['MSRP']\n",
        "\n",
        "model = LinearRegression().fit(X, y)\n",
        "\n",
        "print('Intercept:', model.intercept_)\n",
        "print('Coefficients:', model.coef_)\n"
      ],
      "metadata": {
        "colab": {
          "base_uri": "https://localhost:8080/"
        },
        "id": "GRAJ2eCZf3K5",
        "outputId": "0df19532-5c78-40ce-96a9-a5234917428d"
      },
      "execution_count": 69,
      "outputs": [
        {
          "output_type": "stream",
          "name": "stdout",
          "text": [
            "Intercept: -44806.322514006264\n",
            "Coefficients: [354.88425774  -2.03748781]\n"
          ]
        }
      ]
    }
  ],
  "metadata": {
    "colab": {
      "provenance": [],
      "collapsed_sections": [
        "dkRbJHS8PXXh",
        "C16Caw7RPeGI",
        "al9Xe7Mjdx3B",
        "KsUHqzUGO3ZQ"
      ]
    },
    "kernelspec": {
      "display_name": "Python 3",
      "name": "python3"
    },
    "language_info": {
      "name": "python"
    }
  },
  "nbformat": 4,
  "nbformat_minor": 0
}